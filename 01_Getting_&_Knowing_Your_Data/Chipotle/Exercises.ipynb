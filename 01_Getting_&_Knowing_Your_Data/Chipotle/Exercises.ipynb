{
 "cells": [
  {
   "cell_type": "markdown",
   "metadata": {},
   "source": [
    "# Ex2 - Getting and Knowing your Data"
   ]
  },
  {
   "cell_type": "markdown",
   "metadata": {},
   "source": [
    "This time we are going to pull data directly from the internet.\n",
    "Special thanks to: https://github.com/justmarkham for sharing the dataset and materials.\n",
    "\n",
    "### Step 1. Import the necessary libraries"
   ]
  },
  {
   "cell_type": "code",
   "execution_count": 1,
   "metadata": {},
   "outputs": [],
   "source": [
    "import numpy as np\n",
    "import pandas as pd"
   ]
  },
  {
   "cell_type": "markdown",
   "metadata": {},
   "source": [
    "### Step 2. Import the dataset from this [address](https://raw.githubusercontent.com/justmarkham/DAT8/master/data/chipotle.tsv). "
   ]
  },
  {
   "cell_type": "code",
   "execution_count": 3,
   "metadata": {},
   "outputs": [],
   "source": [
    "url = \"https://raw.githubusercontent.com/justmarkham/DAT8/master/data/chipotle.tsv\""
   ]
  },
  {
   "cell_type": "markdown",
   "metadata": {},
   "source": [
    "### Step 3. Assign it to a variable called chipo."
   ]
  },
  {
   "cell_type": "code",
   "execution_count": 4,
   "metadata": {},
   "outputs": [],
   "source": [
    "chipo = pd.read_csv(url, sep='\\t')"
   ]
  },
  {
   "cell_type": "markdown",
   "metadata": {},
   "source": [
    "### Step 4. See the first 10 entries"
   ]
  },
  {
   "cell_type": "code",
   "execution_count": 5,
   "metadata": {
    "scrolled": false
   },
   "outputs": [
    {
     "data": {
      "text/html": [
       "<div>\n",
       "<style scoped>\n",
       "    .dataframe tbody tr th:only-of-type {\n",
       "        vertical-align: middle;\n",
       "    }\n",
       "\n",
       "    .dataframe tbody tr th {\n",
       "        vertical-align: top;\n",
       "    }\n",
       "\n",
       "    .dataframe thead th {\n",
       "        text-align: right;\n",
       "    }\n",
       "</style>\n",
       "<table border=\"1\" class=\"dataframe\">\n",
       "  <thead>\n",
       "    <tr style=\"text-align: right;\">\n",
       "      <th></th>\n",
       "      <th>order_id</th>\n",
       "      <th>quantity</th>\n",
       "      <th>item_name</th>\n",
       "      <th>choice_description</th>\n",
       "      <th>item_price</th>\n",
       "    </tr>\n",
       "  </thead>\n",
       "  <tbody>\n",
       "    <tr>\n",
       "      <th>0</th>\n",
       "      <td>1</td>\n",
       "      <td>1</td>\n",
       "      <td>Chips and Fresh Tomato Salsa</td>\n",
       "      <td>NaN</td>\n",
       "      <td>$2.39</td>\n",
       "    </tr>\n",
       "    <tr>\n",
       "      <th>1</th>\n",
       "      <td>1</td>\n",
       "      <td>1</td>\n",
       "      <td>Izze</td>\n",
       "      <td>[Clementine]</td>\n",
       "      <td>$3.39</td>\n",
       "    </tr>\n",
       "    <tr>\n",
       "      <th>2</th>\n",
       "      <td>1</td>\n",
       "      <td>1</td>\n",
       "      <td>Nantucket Nectar</td>\n",
       "      <td>[Apple]</td>\n",
       "      <td>$3.39</td>\n",
       "    </tr>\n",
       "    <tr>\n",
       "      <th>3</th>\n",
       "      <td>1</td>\n",
       "      <td>1</td>\n",
       "      <td>Chips and Tomatillo-Green Chili Salsa</td>\n",
       "      <td>NaN</td>\n",
       "      <td>$2.39</td>\n",
       "    </tr>\n",
       "    <tr>\n",
       "      <th>4</th>\n",
       "      <td>2</td>\n",
       "      <td>2</td>\n",
       "      <td>Chicken Bowl</td>\n",
       "      <td>[Tomatillo-Red Chili Salsa (Hot), [Black Beans...</td>\n",
       "      <td>$16.98</td>\n",
       "    </tr>\n",
       "    <tr>\n",
       "      <th>5</th>\n",
       "      <td>3</td>\n",
       "      <td>1</td>\n",
       "      <td>Chicken Bowl</td>\n",
       "      <td>[Fresh Tomato Salsa (Mild), [Rice, Cheese, Sou...</td>\n",
       "      <td>$10.98</td>\n",
       "    </tr>\n",
       "    <tr>\n",
       "      <th>6</th>\n",
       "      <td>3</td>\n",
       "      <td>1</td>\n",
       "      <td>Side of Chips</td>\n",
       "      <td>NaN</td>\n",
       "      <td>$1.69</td>\n",
       "    </tr>\n",
       "    <tr>\n",
       "      <th>7</th>\n",
       "      <td>4</td>\n",
       "      <td>1</td>\n",
       "      <td>Steak Burrito</td>\n",
       "      <td>[Tomatillo Red Chili Salsa, [Fajita Vegetables...</td>\n",
       "      <td>$11.75</td>\n",
       "    </tr>\n",
       "    <tr>\n",
       "      <th>8</th>\n",
       "      <td>4</td>\n",
       "      <td>1</td>\n",
       "      <td>Steak Soft Tacos</td>\n",
       "      <td>[Tomatillo Green Chili Salsa, [Pinto Beans, Ch...</td>\n",
       "      <td>$9.25</td>\n",
       "    </tr>\n",
       "    <tr>\n",
       "      <th>9</th>\n",
       "      <td>5</td>\n",
       "      <td>1</td>\n",
       "      <td>Steak Burrito</td>\n",
       "      <td>[Fresh Tomato Salsa, [Rice, Black Beans, Pinto...</td>\n",
       "      <td>$9.25</td>\n",
       "    </tr>\n",
       "  </tbody>\n",
       "</table>\n",
       "</div>"
      ],
      "text/plain": [
       "   order_id  quantity                              item_name  \\\n",
       "0         1         1           Chips and Fresh Tomato Salsa   \n",
       "1         1         1                                   Izze   \n",
       "2         1         1                       Nantucket Nectar   \n",
       "3         1         1  Chips and Tomatillo-Green Chili Salsa   \n",
       "4         2         2                           Chicken Bowl   \n",
       "5         3         1                           Chicken Bowl   \n",
       "6         3         1                          Side of Chips   \n",
       "7         4         1                          Steak Burrito   \n",
       "8         4         1                       Steak Soft Tacos   \n",
       "9         5         1                          Steak Burrito   \n",
       "\n",
       "                                  choice_description item_price  \n",
       "0                                                NaN     $2.39   \n",
       "1                                       [Clementine]     $3.39   \n",
       "2                                            [Apple]     $3.39   \n",
       "3                                                NaN     $2.39   \n",
       "4  [Tomatillo-Red Chili Salsa (Hot), [Black Beans...    $16.98   \n",
       "5  [Fresh Tomato Salsa (Mild), [Rice, Cheese, Sou...    $10.98   \n",
       "6                                                NaN     $1.69   \n",
       "7  [Tomatillo Red Chili Salsa, [Fajita Vegetables...    $11.75   \n",
       "8  [Tomatillo Green Chili Salsa, [Pinto Beans, Ch...     $9.25   \n",
       "9  [Fresh Tomato Salsa, [Rice, Black Beans, Pinto...     $9.25   "
      ]
     },
     "execution_count": 5,
     "metadata": {},
     "output_type": "execute_result"
    }
   ],
   "source": [
    "chipo.head(10)"
   ]
  },
  {
   "cell_type": "markdown",
   "metadata": {},
   "source": [
    "### Step 5. What is the number of observations in the dataset?"
   ]
  },
  {
   "cell_type": "code",
   "execution_count": 6,
   "metadata": {},
   "outputs": [
    {
     "data": {
      "text/plain": [
       "4622"
      ]
     },
     "execution_count": 6,
     "metadata": {},
     "output_type": "execute_result"
    }
   ],
   "source": [
    "# Solution 1\n",
    "len(chipo)\n"
   ]
  },
  {
   "cell_type": "code",
   "execution_count": 8,
   "metadata": {},
   "outputs": [
    {
     "data": {
      "text/plain": [
       "4622"
      ]
     },
     "execution_count": 8,
     "metadata": {},
     "output_type": "execute_result"
    }
   ],
   "source": [
    "# Solution 2\n",
    "chipo_shape = chipo.shape\n",
    "chipo_shape[0]"
   ]
  },
  {
   "cell_type": "markdown",
   "metadata": {},
   "source": [
    "### Step 6. What is the number of columns in the dataset?"
   ]
  },
  {
   "cell_type": "code",
   "execution_count": 9,
   "metadata": {},
   "outputs": [
    {
     "data": {
      "text/plain": [
       "5"
      ]
     },
     "execution_count": 9,
     "metadata": {},
     "output_type": "execute_result"
    }
   ],
   "source": [
    "chipo_shape[1]"
   ]
  },
  {
   "cell_type": "markdown",
   "metadata": {},
   "source": [
    "### Step 7. Print the name of all the columns."
   ]
  },
  {
   "cell_type": "code",
   "execution_count": 11,
   "metadata": {},
   "outputs": [
    {
     "name": "stdout",
     "output_type": "stream",
     "text": [
      "order_id\n",
      "quantity\n",
      "item_name\n",
      "choice_description\n",
      "item_price\n"
     ]
    }
   ],
   "source": [
    "for col in chipo.columns:\n",
    "    print(col)"
   ]
  },
  {
   "cell_type": "markdown",
   "metadata": {},
   "source": [
    "### Step 8. How is the dataset indexed?"
   ]
  },
  {
   "cell_type": "code",
   "execution_count": 12,
   "metadata": {},
   "outputs": [
    {
     "data": {
      "text/plain": [
       "RangeIndex(start=0, stop=4622, step=1)"
      ]
     },
     "execution_count": 12,
     "metadata": {},
     "output_type": "execute_result"
    }
   ],
   "source": [
    "chipo.index\n",
    "\n",
    "# Because I haven't designated any index upon data (url) import\n",
    "# i.e. the 'read_csv' method use above, this is simply indexed \n",
    "# on the row number in the data itself."
   ]
  },
  {
   "cell_type": "markdown",
   "metadata": {},
   "source": [
    "### Step 9. Which was the most-ordered item? "
   ]
  },
  {
   "cell_type": "code",
   "execution_count": 22,
   "metadata": {},
   "outputs": [
    {
     "data": {
      "text/plain": [
       "'Chicken Bowl'"
      ]
     },
     "execution_count": 22,
     "metadata": {},
     "output_type": "execute_result"
    }
   ],
   "source": [
    "chipo_item_counts = chipo.item_name.value_counts()\n",
    "chipo_item_count_rows = list(chipo_item_counts.iteritems())\n",
    "chipo_item_count_rows[0][0]"
   ]
  },
  {
   "cell_type": "markdown",
   "metadata": {},
   "source": [
    "_i.e.: 'Chicken Bowl' was the most ordered items, with 726 orders that included this item._"
   ]
  },
  {
   "cell_type": "markdown",
   "metadata": {},
   "source": [
    "### Step 10. For the most-ordered item, how many items were ordered?"
   ]
  },
  {
   "cell_type": "code",
   "execution_count": 58,
   "metadata": {},
   "outputs": [
    {
     "data": {
      "text/plain": [
       "726"
      ]
     },
     "execution_count": 58,
     "metadata": {},
     "output_type": "execute_result"
    }
   ],
   "source": [
    "chipo_item_count_rows[0][1]"
   ]
  },
  {
   "cell_type": "markdown",
   "metadata": {},
   "source": [
    "_Step 9, 10 Solutions - First, use `groupby` method on the dataframe:_"
   ]
  },
  {
   "cell_type": "code",
   "execution_count": 61,
   "metadata": {},
   "outputs": [],
   "source": [
    "g = chipo.groupby('item_name')"
   ]
  },
  {
   "cell_type": "code",
   "execution_count": 62,
   "metadata": {},
   "outputs": [
    {
     "data": {
      "text/plain": [
       "<pandas.core.groupby.generic.DataFrameGroupBy object at 0x126bdf370>"
      ]
     },
     "execution_count": 62,
     "metadata": {},
     "output_type": "execute_result"
    }
   ],
   "source": [
    "g"
   ]
  },
  {
   "cell_type": "markdown",
   "metadata": {},
   "source": [
    "This is _not_ yet a result like we ordinarily might expect! Instead it is a `DataFrameGroupBy`. How does this look \"internally\"?"
   ]
  },
  {
   "cell_type": "code",
   "execution_count": 63,
   "metadata": {},
   "outputs": [
    {
     "name": "stdout",
     "output_type": "stream",
     "text": [
      "6 Pack Soft Drink \n",
      "\n",
      "     order_id  quantity          item_name choice_description item_price  \\\n",
      "298       129         1  6 Pack Soft Drink           [Sprite]     $6.49    \n",
      "341       148         1  6 Pack Soft Drink        [Diet Coke]     $6.49    \n",
      "357       154         1  6 Pack Soft Drink             [Coke]     $6.49    \n",
      "388       168         1  6 Pack Soft Drink        [Diet Coke]     $6.49    \n",
      "417       182         1  6 Pack Soft Drink        [Diet Coke]     $6.49    \n",
      "\n",
      "    choice_desc_list  \n",
      "298         [Sprite]  \n",
      "341      [Diet Coke]  \n",
      "357           [Coke]  \n",
      "388      [Diet Coke]  \n",
      "417      [Diet Coke]  \n",
      "Barbacoa Bowl \n",
      "\n",
      "     order_id  quantity      item_name  \\\n",
      "39         19         1  Barbacoa Bowl   \n",
      "58         27         1  Barbacoa Bowl   \n",
      "95         42         1  Barbacoa Bowl   \n",
      "115        51         1  Barbacoa Bowl   \n",
      "127        56         1  Barbacoa Bowl   \n",
      "\n",
      "                                    choice_description item_price  \\\n",
      "39   [Roasted Chili Corn Salsa, [Fajita Vegetables,...    $11.75    \n",
      "58   [Roasted Chili Corn Salsa, [Fajita Vegetables,...    $11.75    \n",
      "95   [Fresh Tomato Salsa, [Fajita Vegetables, Rice,...     $9.25    \n",
      "115  [[Tomatillo-Red Chili Salsa (Hot), Tomatillo-G...     $8.99    \n",
      "127  [Tomatillo Red Chili Salsa, [Rice, Pinto Beans...     $9.25    \n",
      "\n",
      "                                      choice_desc_list  \n",
      "39   [Roasted Chili Corn Salsa, Fajita Vegetables, ...  \n",
      "58   [Roasted Chili Corn Salsa, Fajita Vegetables, ...  \n",
      "95   [Fresh Tomato Salsa, Fajita Vegetables, Rice, ...  \n",
      "115  [Tomatillo-Red Chili Salsa (Hot), Tomatillo-Gr...  \n",
      "127  [Tomatillo Red Chili Salsa, Rice, Pinto Beans,...  \n",
      "Barbacoa Burrito \n",
      "\n",
      "     order_id  quantity         item_name  \\\n",
      "21         11         1  Barbacoa Burrito   \n",
      "81         36         1  Barbacoa Burrito   \n",
      "121        53         1  Barbacoa Burrito   \n",
      "130        57         1  Barbacoa Burrito   \n",
      "144        65         1  Barbacoa Burrito   \n",
      "\n",
      "                                    choice_description item_price  \\\n",
      "21   [[Fresh Tomato Salsa (Mild), Tomatillo-Green C...     $8.99    \n",
      "81   [Fresh Tomato Salsa, [Rice, Pinto Beans, Chees...     $9.25    \n",
      "121  [Tomatillo Green Chili Salsa, [Rice, Black Bea...     $9.25    \n",
      "130  [Roasted Chili Corn Salsa, [Rice, Pinto Beans,...    $11.75    \n",
      "144  [Tomatillo Red Chili Salsa, [Rice, Sour Cream,...    $11.75    \n",
      "\n",
      "                                      choice_desc_list  \n",
      "21   [Fresh Tomato Salsa (Mild), Tomatillo-Green Ch...  \n",
      "81   [Fresh Tomato Salsa, Rice, Pinto Beans, Cheese...  \n",
      "121  [Tomatillo Green Chili Salsa, Rice, Black Bean...  \n",
      "130  [Roasted Chili Corn Salsa, Rice, Pinto Beans, ...  \n",
      "144  [Tomatillo Red Chili Salsa, Rice, Sour Cream, ...  \n",
      "Barbacoa Crispy Tacos \n",
      "\n",
      "     order_id  quantity              item_name  \\\n",
      "168        75         1  Barbacoa Crispy Tacos   \n",
      "255       110         1  Barbacoa Crispy Tacos   \n",
      "429       186         1  Barbacoa Crispy Tacos   \n",
      "485       205         1  Barbacoa Crispy Tacos   \n",
      "763       315         1  Barbacoa Crispy Tacos   \n",
      "\n",
      "                                    choice_description item_price  \\\n",
      "168  [Tomatillo Red Chili Salsa, [Rice, Black Beans...    $11.75    \n",
      "255  [Roasted Chili Corn Salsa, [Rice, Cheese, Lett...     $9.25    \n",
      "429  [[Roasted Chili Corn Salsa (Medium), Tomatillo...    $11.48    \n",
      "485                    [Fresh Tomato Salsa, Guacamole]    $11.75    \n",
      "763        [Fresh Tomato Salsa, [Sour Cream, Lettuce]]     $9.25    \n",
      "\n",
      "                                      choice_desc_list  \n",
      "168  [Tomatillo Red Chili Salsa, Rice, Black Beans,...  \n",
      "255  [Roasted Chili Corn Salsa, Rice, Cheese, Lettuce]  \n",
      "429  [Roasted Chili Corn Salsa (Medium), Tomatillo-...  \n",
      "485                    [Fresh Tomato Salsa, Guacamole]  \n",
      "763          [Fresh Tomato Salsa, Sour Cream, Lettuce]  \n",
      "Barbacoa Salad Bowl \n",
      "\n",
      "      order_id  quantity            item_name  \\\n",
      "1229       501         1  Barbacoa Salad Bowl   \n",
      "1326       541         1  Barbacoa Salad Bowl   \n",
      "1418       576         1  Barbacoa Salad Bowl   \n",
      "1421       576         1  Barbacoa Salad Bowl   \n",
      "1825       738         1  Barbacoa Salad Bowl   \n",
      "\n",
      "                                     choice_description item_price  \\\n",
      "1229  [Fresh Tomato Salsa, [Rice, Fajita Vegetables,...    $11.89    \n",
      "1326  [Fresh Tomato Salsa, [Fajita Vegetables, Rice,...    $11.89    \n",
      "1418                         [Roasted Chili Corn Salsa]     $9.39    \n",
      "1421                         [Roasted Chili Corn Salsa]     $9.39    \n",
      "1825  [Fresh Tomato Salsa, [Rice, Pinto Beans, Chees...     $9.39    \n",
      "\n",
      "                                       choice_desc_list  \n",
      "1229  [Fresh Tomato Salsa, Rice, Fajita Vegetables, ...  \n",
      "1326  [Fresh Tomato Salsa, Fajita Vegetables, Rice, ...  \n",
      "1418                         [Roasted Chili Corn Salsa]  \n",
      "1421                         [Roasted Chili Corn Salsa]  \n",
      "1825  [Fresh Tomato Salsa, Rice, Pinto Beans, Cheese...  \n",
      "Barbacoa Soft Tacos \n",
      "\n",
      "     order_id  quantity            item_name  \\\n",
      "56         26         1  Barbacoa Soft Tacos   \n",
      "181        82         1  Barbacoa Soft Tacos   \n",
      "268       117         1  Barbacoa Soft Tacos   \n",
      "611       252         1  Barbacoa Soft Tacos   \n",
      "857       353         1  Barbacoa Soft Tacos   \n",
      "\n",
      "                                    choice_description item_price  \\\n",
      "56   [Fresh Tomato Salsa, [Fajita Vegetables, Black...     $9.25    \n",
      "181  [Tomatillo Red Chili Salsa, [Rice, Pinto Beans...     $9.25    \n",
      "268  [Tomatillo-Red Chili Salsa (Hot), [Pinto Beans...     $8.99    \n",
      "611  [Tomatillo Red Chili Salsa, [Rice, Pinto Beans...     $9.25    \n",
      "857  [Tomatillo Red Chili Salsa, [Rice, Pinto Beans...     $9.25    \n",
      "\n",
      "                                      choice_desc_list  \n",
      "56   [Fresh Tomato Salsa, Fajita Vegetables, Black ...  \n",
      "181  [Tomatillo Red Chili Salsa, Rice, Pinto Beans,...  \n",
      "268  [Tomatillo-Red Chili Salsa (Hot), Pinto Beans,...  \n",
      "611  [Tomatillo Red Chili Salsa, Rice, Pinto Beans,...  \n",
      "857  [Tomatillo Red Chili Salsa, Rice, Pinto Beans,...  \n",
      "Bottled Water \n",
      "\n",
      "     order_id  quantity      item_name choice_description item_price  \\\n",
      "34         17         1  Bottled Water                NaN     $1.09    \n",
      "87         38         1  Bottled Water                NaN     $1.09    \n",
      "318       138         1  Bottled Water                NaN     $1.09    \n",
      "329       143         1  Bottled Water                NaN     $1.50    \n",
      "376       163         1  Bottled Water                NaN     $1.50    \n",
      "\n",
      "    choice_desc_list  \n",
      "34                []  \n",
      "87                []  \n",
      "318               []  \n",
      "329               []  \n",
      "376               []  \n",
      "Bowl \n",
      "\n",
      "     order_id  quantity item_name  \\\n",
      "445       193         3      Bowl   \n",
      "673       279         1      Bowl   \n",
      "\n",
      "                                    choice_description item_price  \\\n",
      "445  [Braised Carnitas, Pinto Beans, [Sour Cream, C...    $22.20    \n",
      "673  [Adobo-Marinated and Grilled Steak, [Sour Crea...     $7.40    \n",
      "\n",
      "                                      choice_desc_list  \n",
      "445  [Braised Carnitas, Pinto Beans, Sour Cream, Ch...  \n",
      "673  [Adobo-Marinated and Grilled Steak, Sour Cream...  \n",
      "Burrito \n",
      "\n",
      "     order_id  quantity item_name  \\\n",
      "510       214         1   Burrito   \n",
      "511       214         1   Burrito   \n",
      "519       217         1   Burrito   \n",
      "675       279         1   Burrito   \n",
      "759       313         1   Burrito   \n",
      "\n",
      "                                    choice_description item_price  \\\n",
      "510  [Adobo-Marinated and Grilled Chicken, Pinto Be...     $7.40    \n",
      "511  [Braised Barbacoa, Vegetarian Black Beans, [So...     $7.40    \n",
      "519  [Braised Barbacoa, Pinto Beans, [Sour Cream, S...     $7.40    \n",
      "675  [Adobo-Marinated and Grilled Chicken, [Sour Cr...     $7.40    \n",
      "759  [White Rice, Adobo-Marinated and Grilled Steak...     $7.40    \n",
      "\n",
      "                                      choice_desc_list  \n",
      "510  [Adobo-Marinated and Grilled Chicken, Pinto Be...  \n",
      "511  [Braised Barbacoa, Vegetarian Black Beans, Sou...  \n",
      "519  [Braised Barbacoa, Pinto Beans, Sour Cream, Sa...  \n",
      "675  [Adobo-Marinated and Grilled Chicken, Sour Cre...  \n",
      "759  [White Rice, Adobo-Marinated and Grilled Steak...  \n",
      "Canned Soda \n",
      "\n",
      "     order_id  quantity    item_name choice_description item_price  \\\n",
      "18          9         2  Canned Soda           [Sprite]     $2.18    \n",
      "28         14         1  Canned Soda       [Dr. Pepper]     $1.09    \n",
      "51         23         2  Canned Soda     [Mountain Dew]     $2.18    \n",
      "53         24         1  Canned Soda           [Sprite]     $1.09    \n",
      "107        47         1  Canned Soda       [Dr. Pepper]     $1.09    \n",
      "\n",
      "    choice_desc_list  \n",
      "18          [Sprite]  \n",
      "28      [Dr. Pepper]  \n",
      "51    [Mountain Dew]  \n",
      "53          [Sprite]  \n",
      "107     [Dr. Pepper]  \n",
      "Canned Soft Drink \n",
      "\n",
      "     order_id  quantity          item_name choice_description item_price  \\\n",
      "263       114         1  Canned Soft Drink             [Coke]     $1.25    \n",
      "292       127         1  Canned Soft Drink           [Sprite]     $1.25    \n",
      "320       139         1  Canned Soft Drink             [Coke]     $1.25    \n",
      "337       147         1  Canned Soft Drink             [Coke]     $1.25    \n",
      "346       149         1  Canned Soft Drink         [Lemonade]     $1.25    \n",
      "\n",
      "    choice_desc_list  \n",
      "263           [Coke]  \n",
      "292         [Sprite]  \n",
      "320           [Coke]  \n",
      "337           [Coke]  \n",
      "346       [Lemonade]  \n",
      "Carnitas Bowl \n",
      "\n",
      "     order_id  quantity      item_name  \\\n",
      "33         17         1  Carnitas Bowl   \n",
      "97         43         1  Carnitas Bowl   \n",
      "145        65         1  Carnitas Bowl   \n",
      "163        74         1  Carnitas Bowl   \n",
      "399       173         1  Carnitas Bowl   \n",
      "\n",
      "                                    choice_description item_price  \\\n",
      "33   [Tomatillo-Red Chili Salsa (Hot), [Black Beans...     $8.99    \n",
      "97   [Fresh Tomato Salsa, [Fajita Vegetables, Rice,...    $11.75    \n",
      "145  [Roasted Chili Corn Salsa, [Rice, Fajita Veget...     $9.25    \n",
      "163  [Roasted Chili Corn Salsa (Medium), [Pinto Bea...    $11.48    \n",
      "399  [[Fresh Tomato Salsa (Mild), Roasted Chili Cor...     $8.99    \n",
      "\n",
      "                                      choice_desc_list  \n",
      "33   [Tomatillo-Red Chili Salsa (Hot), Black Beans,...  \n",
      "97   [Fresh Tomato Salsa, Fajita Vegetables, Rice, ...  \n",
      "145  [Roasted Chili Corn Salsa, Rice, Fajita Vegeta...  \n",
      "163  [Roasted Chili Corn Salsa (Medium), Pinto Bean...  \n",
      "399  [Fresh Tomato Salsa (Mild), Roasted Chili Corn...  \n",
      "Carnitas Burrito \n",
      "\n",
      "     order_id  quantity         item_name  \\\n",
      "27         14         1  Carnitas Burrito   \n",
      "88         39         1  Carnitas Burrito   \n",
      "93         41         1  Carnitas Burrito   \n",
      "239       104         1  Carnitas Burrito   \n",
      "373       162         1  Carnitas Burrito   \n",
      "\n",
      "                                    choice_description item_price  \\\n",
      "27   [[Tomatillo-Green Chili Salsa (Medium), Roaste...     $8.99    \n",
      "88   [Fresh Tomato Salsa, [Rice, Pinto Beans, Sour ...     $9.25    \n",
      "93   [Roasted Chili Corn Salsa, [Sour Cream, Guacam...    $11.75    \n",
      "239  [Fresh Tomato Salsa, [Rice, Pinto Beans, Sour ...     $9.25    \n",
      "373  [Fresh Tomato Salsa, [Rice, Pinto Beans, Sour ...     $9.25    \n",
      "\n",
      "                                      choice_desc_list  \n",
      "27   [Tomatillo-Green Chili Salsa (Medium), Roasted...  \n",
      "88   [Fresh Tomato Salsa, Rice, Pinto Beans, Sour C...  \n",
      "93   [Roasted Chili Corn Salsa, Sour Cream, Guacamole]  \n",
      "239  [Fresh Tomato Salsa, Rice, Pinto Beans, Sour C...  \n",
      "373  [Fresh Tomato Salsa, Rice, Pinto Beans, Sour C...  \n",
      "Carnitas Crispy Tacos \n",
      "\n",
      "      order_id  quantity              item_name  \\\n",
      "554        230         1  Carnitas Crispy Tacos   \n",
      "1008       413         1  Carnitas Crispy Tacos   \n",
      "1195       490         1  Carnitas Crispy Tacos   \n",
      "1632       658         1  Carnitas Crispy Tacos   \n",
      "1838       744         1  Carnitas Crispy Tacos   \n",
      "\n",
      "                                     choice_description item_price  \\\n",
      "554                          [Roasted Chili Corn Salsa]     $9.25    \n",
      "1008  [Tomatillo Green Chili Salsa, [Rice, Black Bea...    $11.75    \n",
      "1195  [Tomatillo-Green Chili Salsa (Medium), [Fajita...     $8.99    \n",
      "1632  [Fresh Tomato Salsa, [Fajita Vegetables, Rice,...    $11.75    \n",
      "1838  [Tomatillo-Red Chili Salsa (Hot), [Black Beans...     $8.99    \n",
      "\n",
      "                                       choice_desc_list  \n",
      "554                          [Roasted Chili Corn Salsa]  \n",
      "1008  [Tomatillo Green Chili Salsa, Rice, Black Bean...  \n",
      "1195  [Tomatillo-Green Chili Salsa (Medium), Fajita ...  \n",
      "1632  [Fresh Tomato Salsa, Fajita Vegetables, Rice, ...  \n",
      "1838  [Tomatillo-Red Chili Salsa (Hot), Black Beans,...  \n",
      "Carnitas Salad \n",
      "\n",
      "      order_id  quantity       item_name  \\\n",
      "3750      1500         1  Carnitas Salad   \n",
      "\n",
      "                                     choice_description item_price  \\\n",
      "3750  [[Fresh Tomato Salsa (Mild), Roasted Chili Cor...     $8.99    \n",
      "\n",
      "                                       choice_desc_list  \n",
      "3750  [Fresh Tomato Salsa (Mild), Roasted Chili Corn...  \n",
      "Carnitas Salad Bowl \n",
      "\n",
      "      order_id  quantity            item_name  \\\n",
      "1132       468         1  Carnitas Salad Bowl   \n",
      "1865       756         1  Carnitas Salad Bowl   \n",
      "2610      1035         1  Carnitas Salad Bowl   \n",
      "3115      1243         1  Carnitas Salad Bowl   \n",
      "3749      1499         1  Carnitas Salad Bowl   \n",
      "\n",
      "                                     choice_description item_price  \\\n",
      "1132  [Fresh Tomato Salsa, [Rice, Black Beans, Chees...    $11.89    \n",
      "1865   [Fresh Tomato Salsa, [Rice, Cheese, Sour Cream]]     $9.39    \n",
      "2610  [Roasted Chili Corn Salsa, [Fajita Vegetables,...    $11.89    \n",
      "3115  [Tomatillo Green Chili Salsa, [Rice, Pinto Bea...     $9.39    \n",
      "3749  [Roasted Chili Corn Salsa, [Fajita Vegetables,...    $11.89    \n",
      "\n",
      "                                       choice_desc_list  \n",
      "1132  [Fresh Tomato Salsa, Rice, Black Beans, Cheese...  \n",
      "1865     [Fresh Tomato Salsa, Rice, Cheese, Sour Cream]  \n",
      "2610  [Roasted Chili Corn Salsa, Fajita Vegetables, ...  \n",
      "3115  [Tomatillo Green Chili Salsa, Rice, Pinto Bean...  \n",
      "3749  [Roasted Chili Corn Salsa, Fajita Vegetables, ...  \n",
      "Carnitas Soft Tacos \n",
      "\n",
      "     order_id  quantity            item_name  \\\n",
      "237       103         1  Carnitas Soft Tacos   \n",
      "405       176         1  Carnitas Soft Tacos   \n",
      "453       195         1  Carnitas Soft Tacos   \n",
      "565       233         1  Carnitas Soft Tacos   \n",
      "590       242         1  Carnitas Soft Tacos   \n",
      "\n",
      "                                    choice_description item_price  \\\n",
      "237  [Tomatillo Green Chili Salsa, [Fajita Vegetabl...     $9.25    \n",
      "405            [Fresh Tomato Salsa, [Cheese, Lettuce]]     $9.25    \n",
      "453        [Fresh Tomato Salsa, [Sour Cream, Lettuce]]     $9.25    \n",
      "565  [Fresh Tomato Salsa, [Fajita Vegetables, Black...     $9.25    \n",
      "590                         [Roasted Chili Corn Salsa]     $9.25    \n",
      "\n",
      "                                      choice_desc_list  \n",
      "237  [Tomatillo Green Chili Salsa, Fajita Vegetable...  \n",
      "405              [Fresh Tomato Salsa, Cheese, Lettuce]  \n",
      "453          [Fresh Tomato Salsa, Sour Cream, Lettuce]  \n",
      "565  [Fresh Tomato Salsa, Fajita Vegetables, Black ...  \n",
      "590                         [Roasted Chili Corn Salsa]  \n",
      "Chicken Bowl \n",
      "\n",
      "    order_id  quantity     item_name  \\\n",
      "4          2         2  Chicken Bowl   \n",
      "5          3         1  Chicken Bowl   \n",
      "13         7         1  Chicken Bowl   \n",
      "19        10         1  Chicken Bowl   \n",
      "26        13         1  Chicken Bowl   \n",
      "\n",
      "                                   choice_description item_price  \\\n",
      "4   [Tomatillo-Red Chili Salsa (Hot), [Black Beans...    $16.98    \n",
      "5   [Fresh Tomato Salsa (Mild), [Rice, Cheese, Sou...    $10.98    \n",
      "13  [Fresh Tomato Salsa, [Fajita Vegetables, Rice,...    $11.25    \n",
      "19  [Tomatillo Red Chili Salsa, [Fajita Vegetables...     $8.75    \n",
      "26  [Roasted Chili Corn Salsa (Medium), [Pinto Bea...     $8.49    \n",
      "\n",
      "                                     choice_desc_list  \n",
      "4   [Tomatillo-Red Chili Salsa (Hot), Black Beans,...  \n",
      "5   [Fresh Tomato Salsa (Mild), Rice, Cheese, Sour...  \n",
      "13  [Fresh Tomato Salsa, Fajita Vegetables, Rice, ...  \n",
      "19  [Tomatillo Red Chili Salsa, Fajita Vegetables,...  \n",
      "26  [Roasted Chili Corn Salsa (Medium), Pinto Bean...  \n",
      "Chicken Burrito \n",
      "\n",
      "    order_id  quantity        item_name  \\\n",
      "16         8         1  Chicken Burrito   \n",
      "17         9         1  Chicken Burrito   \n",
      "23        12         1  Chicken Burrito   \n",
      "29        15         1  Chicken Burrito   \n",
      "45        21         1  Chicken Burrito   \n",
      "\n",
      "                                   choice_description item_price  \\\n",
      "16  [Tomatillo-Green Chili Salsa (Medium), [Pinto ...     $8.49    \n",
      "17  [Fresh Tomato Salsa (Mild), [Black Beans, Rice...     $8.49    \n",
      "23  [[Tomatillo-Green Chili Salsa (Medium), Tomati...    $10.98    \n",
      "29  [Tomatillo-Green Chili Salsa (Medium), [Pinto ...     $8.49    \n",
      "45  [Tomatillo-Red Chili Salsa (Hot), [Black Beans...    $10.98    \n",
      "\n",
      "                                     choice_desc_list  \n",
      "16  [Tomatillo-Green Chili Salsa (Medium), Pinto B...  \n",
      "17  [Fresh Tomato Salsa (Mild), Black Beans, Rice,...  \n",
      "23  [Tomatillo-Green Chili Salsa (Medium), Tomatil...  \n",
      "29  [Tomatillo-Green Chili Salsa (Medium), Pinto B...  \n",
      "45  [Tomatillo-Red Chili Salsa (Hot), Black Beans,...  \n",
      "Chicken Crispy Tacos \n",
      "\n",
      "     order_id  quantity             item_name  \\\n",
      "11          6         1  Chicken Crispy Tacos   \n",
      "217        96         2  Chicken Crispy Tacos   \n",
      "365       158         1  Chicken Crispy Tacos   \n",
      "598       247         1  Chicken Crispy Tacos   \n",
      "600       247         1  Chicken Crispy Tacos   \n",
      "\n",
      "                                    choice_description item_price  \\\n",
      "11   [Roasted Chili Corn Salsa, [Fajita Vegetables,...     $8.75    \n",
      "217  [Tomatillo Red Chili Salsa, [Cheese, Sour Crea...    $17.50    \n",
      "365  [Tomatillo Green Chili Salsa, [Black Beans, Ch...    $11.25    \n",
      "598  [Fresh Tomato Salsa (Mild), [Pinto Beans, Faji...     $8.49    \n",
      "600  [Fresh Tomato Salsa (Mild), [Pinto Beans, Chee...     $8.49    \n",
      "\n",
      "                                      choice_desc_list  \n",
      "11   [Roasted Chili Corn Salsa, Fajita Vegetables, ...  \n",
      "217  [Tomatillo Red Chili Salsa, Cheese, Sour Cream...  \n",
      "365  [Tomatillo Green Chili Salsa, Black Beans, Che...  \n",
      "598  [Fresh Tomato Salsa (Mild), Pinto Beans, Fajit...  \n",
      "600  [Fresh Tomato Salsa (Mild), Pinto Beans, Chees...  \n",
      "Chicken Salad \n",
      "\n",
      "      order_id  quantity      item_name  \\\n",
      "250        109         1  Chicken Salad   \n",
      "1065       439         1  Chicken Salad   \n",
      "2968      1181         1  Chicken Salad   \n",
      "3045      1212         1  Chicken Salad   \n",
      "3363      1349         1  Chicken Salad   \n",
      "\n",
      "                                     choice_description item_price  \\\n",
      "250   [Roasted Chili Corn Salsa (Medium), [Black Bea...    $10.98    \n",
      "1065  [[Tomatillo-Green Chili Salsa (Medium), Roaste...    $10.98    \n",
      "2968           [Fresh Tomato Salsa (Mild), Black Beans]     $8.49    \n",
      "3045           [Fresh Tomato Salsa (Mild), Black Beans]     $8.49    \n",
      "3363  [Fresh Tomato Salsa (Mild), [Pinto Beans, Rice...     $8.49    \n",
      "\n",
      "                                       choice_desc_list  \n",
      "250   [Roasted Chili Corn Salsa (Medium), Black Bean...  \n",
      "1065  [Tomatillo-Green Chili Salsa (Medium), Roasted...  \n",
      "2968           [Fresh Tomato Salsa (Mild), Black Beans]  \n",
      "3045           [Fresh Tomato Salsa (Mild), Black Beans]  \n",
      "3363  [Fresh Tomato Salsa (Mild), Pinto Beans, Rice,...  \n",
      "Chicken Salad Bowl \n",
      "\n",
      "     order_id  quantity           item_name  \\\n",
      "44         20         1  Chicken Salad Bowl   \n",
      "135        60         2  Chicken Salad Bowl   \n",
      "213        94         2  Chicken Salad Bowl   \n",
      "256       111         1  Chicken Salad Bowl   \n",
      "315       137         2  Chicken Salad Bowl   \n",
      "\n",
      "                                    choice_description item_price  \\\n",
      "44   [Fresh Tomato Salsa, [Fajita Vegetables, Pinto...     $8.75    \n",
      "135  [Tomatillo Green Chili Salsa, [Sour Cream, Che...    $22.50    \n",
      "213  [Fresh Tomato Salsa, [Fajita Vegetables, Pinto...    $22.50    \n",
      "256  [Fresh Tomato Salsa, [Fajita Vegetables, Rice,...     $8.75    \n",
      "315            [Fresh Tomato Salsa, Fajita Vegetables]    $17.50    \n",
      "\n",
      "                                      choice_desc_list  \n",
      "44   [Fresh Tomato Salsa, Fajita Vegetables, Pinto ...  \n",
      "135  [Tomatillo Green Chili Salsa, Sour Cream, Chee...  \n",
      "213  [Fresh Tomato Salsa, Fajita Vegetables, Pinto ...  \n",
      "256  [Fresh Tomato Salsa, Fajita Vegetables, Rice, ...  \n",
      "315            [Fresh Tomato Salsa, Fajita Vegetables]  \n",
      "Chicken Soft Tacos \n",
      "\n",
      "    order_id  quantity           item_name  \\\n",
      "12         6         1  Chicken Soft Tacos   \n",
      "35        18         1  Chicken Soft Tacos   \n",
      "36        18         1  Chicken Soft Tacos   \n",
      "75        34         1  Chicken Soft Tacos   \n",
      "79        35         1  Chicken Soft Tacos   \n",
      "\n",
      "                                   choice_description item_price  \\\n",
      "12  [Roasted Chili Corn Salsa, [Rice, Black Beans,...     $8.75    \n",
      "35                   [Roasted Chili Corn Salsa, Rice]     $8.75    \n",
      "36      [Roasted Chili Corn Salsa, [Cheese, Lettuce]]     $8.75    \n",
      "75  [Tomatillo Red Chili Salsa, [Rice, Cheese, Sou...     $8.75    \n",
      "79  [Roasted Chili Corn Salsa, [Rice, Cheese, Lett...    $11.25    \n",
      "\n",
      "                                     choice_desc_list  \n",
      "12  [Roasted Chili Corn Salsa, Rice, Black Beans, ...  \n",
      "35                   [Roasted Chili Corn Salsa, Rice]  \n",
      "36        [Roasted Chili Corn Salsa, Cheese, Lettuce]  \n",
      "75  [Tomatillo Red Chili Salsa, Rice, Cheese, Sour...  \n",
      "79  [Roasted Chili Corn Salsa, Rice, Cheese, Lettu...  \n",
      "Chips \n",
      "\n",
      "     order_id  quantity item_name choice_description item_price  \\\n",
      "40         19         1     Chips                NaN     $2.15    \n",
      "59         27         1     Chips                NaN     $2.15    \n",
      "77         34         1     Chips                NaN     $2.15    \n",
      "80         35         1     Chips                NaN     $2.15    \n",
      "208        92         1     Chips                NaN     $2.15    \n",
      "\n",
      "    choice_desc_list  \n",
      "40                []  \n",
      "59                []  \n",
      "77                []  \n",
      "80                []  \n",
      "208               []  \n",
      "Chips and Fresh Tomato Salsa \n",
      "\n",
      "     order_id  quantity                     item_name choice_description  \\\n",
      "0           1         1  Chips and Fresh Tomato Salsa                NaN   \n",
      "25         13         1  Chips and Fresh Tomato Salsa                NaN   \n",
      "55         25         1  Chips and Fresh Tomato Salsa                NaN   \n",
      "89         39         1  Chips and Fresh Tomato Salsa                NaN   \n",
      "183        82         1  Chips and Fresh Tomato Salsa                NaN   \n",
      "\n",
      "    item_price choice_desc_list  \n",
      "0       $2.39                []  \n",
      "25      $2.39                []  \n",
      "55      $2.39                []  \n",
      "89      $2.95                []  \n",
      "183     $2.95                []  \n",
      "Chips and Guacamole \n",
      "\n",
      "    order_id  quantity            item_name choice_description item_price  \\\n",
      "10         5         1  Chips and Guacamole                NaN     $4.45    \n",
      "14         7         1  Chips and Guacamole                NaN     $4.45    \n",
      "20        10         1  Chips and Guacamole                NaN     $4.45    \n",
      "37        18         1  Chips and Guacamole                NaN     $4.45    \n",
      "41        20         1  Chips and Guacamole                NaN     $4.45    \n",
      "\n",
      "   choice_desc_list  \n",
      "10               []  \n",
      "14               []  \n",
      "20               []  \n",
      "37               []  \n",
      "41               []  \n",
      "Chips and Mild Fresh Tomato Salsa \n",
      "\n",
      "     order_id  quantity                          item_name choice_description  \\\n",
      "674       279         1  Chips and Mild Fresh Tomato Salsa                NaN   \n",
      "\n",
      "    item_price choice_desc_list  \n",
      "674     $3.00                []  \n",
      "Chips and Roasted Chili Corn Salsa \n",
      "\n",
      "     order_id  quantity                           item_name  \\\n",
      "233       102         1  Chips and Roasted Chili Corn Salsa   \n",
      "562       232         1  Chips and Roasted Chili Corn Salsa   \n",
      "708       291         1  Chips and Roasted Chili Corn Salsa   \n",
      "841       346         1  Chips and Roasted Chili Corn Salsa   \n",
      "906       375         1  Chips and Roasted Chili Corn Salsa   \n",
      "\n",
      "    choice_description item_price choice_desc_list  \n",
      "233                NaN     $2.95                []  \n",
      "562                NaN     $2.95                []  \n",
      "708                NaN     $2.95                []  \n",
      "841                NaN     $2.95                []  \n",
      "906                NaN     $2.95                []  \n",
      "Chips and Roasted Chili-Corn Salsa \n",
      "\n",
      "      order_id  quantity                           item_name  \\\n",
      "191         85         1  Chips and Roasted Chili-Corn Salsa   \n",
      "648        268         1  Chips and Roasted Chili-Corn Salsa   \n",
      "1180       485         1  Chips and Roasted Chili-Corn Salsa   \n",
      "1458       591         1  Chips and Roasted Chili-Corn Salsa   \n",
      "1628       656         1  Chips and Roasted Chili-Corn Salsa   \n",
      "\n",
      "     choice_description item_price choice_desc_list  \n",
      "191                 NaN     $2.39                []  \n",
      "648                 NaN     $2.39                []  \n",
      "1180                NaN     $2.39                []  \n",
      "1458                NaN     $2.39                []  \n",
      "1628                NaN     $2.39                []  \n",
      "Chips and Tomatillo Green Chili Salsa \n",
      "\n",
      "     order_id  quantity                              item_name  \\\n",
      "38         18         1  Chips and Tomatillo Green Chili Salsa   \n",
      "232       102         1  Chips and Tomatillo Green Chili Salsa   \n",
      "235       103         2  Chips and Tomatillo Green Chili Salsa   \n",
      "366       158         1  Chips and Tomatillo Green Chili Salsa   \n",
      "537       225         1  Chips and Tomatillo Green Chili Salsa   \n",
      "\n",
      "    choice_description item_price choice_desc_list  \n",
      "38                 NaN     $2.95                []  \n",
      "232                NaN     $2.95                []  \n",
      "235                NaN     $5.90                []  \n",
      "366                NaN     $2.95                []  \n",
      "537                NaN     $2.95                []  \n",
      "Chips and Tomatillo Red Chili Salsa \n",
      "\n",
      "     order_id  quantity                            item_name  \\\n",
      "111        49         1  Chips and Tomatillo Red Chili Salsa   \n",
      "128        56         1  Chips and Tomatillo Red Chili Salsa   \n",
      "356       154         1  Chips and Tomatillo Red Chili Salsa   \n",
      "443       192         1  Chips and Tomatillo Red Chili Salsa   \n",
      "593       244         1  Chips and Tomatillo Red Chili Salsa   \n",
      "\n",
      "    choice_description item_price choice_desc_list  \n",
      "111                NaN     $2.95                []  \n",
      "128                NaN     $2.95                []  \n",
      "356                NaN     $2.95                []  \n",
      "443                NaN     $2.95                []  \n",
      "593                NaN     $2.95                []  \n",
      "Chips and Tomatillo-Green Chili Salsa \n",
      "\n",
      "     order_id  quantity                              item_name  \\\n",
      "3           1         1  Chips and Tomatillo-Green Chili Salsa   \n",
      "15          8         1  Chips and Tomatillo-Green Chili Salsa   \n",
      "30         15         1  Chips and Tomatillo-Green Chili Salsa   \n",
      "113        50         1  Chips and Tomatillo-Green Chili Salsa   \n",
      "133        58         1  Chips and Tomatillo-Green Chili Salsa   \n",
      "\n",
      "    choice_description item_price choice_desc_list  \n",
      "3                  NaN     $2.39                []  \n",
      "15                 NaN     $2.39                []  \n",
      "30                 NaN     $2.39                []  \n",
      "113                NaN     $2.39                []  \n",
      "133                NaN     $2.39                []  \n",
      "Chips and Tomatillo-Red Chili Salsa \n",
      "\n",
      "      order_id  quantity                            item_name  \\\n",
      "300        130         1  Chips and Tomatillo-Red Chili Salsa   \n",
      "349        150         1  Chips and Tomatillo-Red Chili Salsa   \n",
      "692        285         1  Chips and Tomatillo-Red Chili Salsa   \n",
      "1101       454         1  Chips and Tomatillo-Red Chili Salsa   \n",
      "1181       485         1  Chips and Tomatillo-Red Chili Salsa   \n",
      "\n",
      "     choice_description item_price choice_desc_list  \n",
      "300                 NaN     $2.39                []  \n",
      "349                 NaN     $2.39                []  \n",
      "692                 NaN     $2.39                []  \n",
      "1101                NaN     $2.39                []  \n",
      "1181                NaN     $2.39                []  \n",
      "Crispy Tacos \n",
      "\n",
      "     order_id  quantity     item_name                     choice_description  \\\n",
      "520       217         1  Crispy Tacos    [Adobo-Marinated and Grilled Steak]   \n",
      "521       217         1  Crispy Tacos  [Adobo-Marinated and Grilled Chicken]   \n",
      "\n",
      "    item_price                       choice_desc_list  \n",
      "520     $7.40     [Adobo-Marinated and Grilled Steak]  \n",
      "521     $7.40   [Adobo-Marinated and Grilled Chicken]  \n",
      "Izze \n",
      "\n",
      "     order_id  quantity item_name choice_description item_price  \\\n",
      "1           1         1      Izze       [Clementine]     $3.39    \n",
      "24         12         1      Izze       [Grapefruit]     $3.39    \n",
      "47         21         1      Izze       [Blackberry]     $3.39    \n",
      "66         30         1      Izze       [Blackberry]     $3.39    \n",
      "359       155         1      Izze       [Blackberry]     $3.39    \n",
      "\n",
      "    choice_desc_list  \n",
      "1       [Clementine]  \n",
      "24      [Grapefruit]  \n",
      "47      [Blackberry]  \n",
      "66      [Blackberry]  \n",
      "359     [Blackberry]  \n",
      "Nantucket Nectar \n",
      "\n",
      "     order_id  quantity         item_name         choice_description  \\\n",
      "2           1         1  Nantucket Nectar                    [Apple]   \n",
      "22         11         1  Nantucket Nectar       [Pomegranate Cherry]   \n",
      "105        46         1  Nantucket Nectar  [Pineapple Orange Banana]   \n",
      "173        77         1  Nantucket Nectar                    [Apple]   \n",
      "205        91         1  Nantucket Nectar             [Peach Orange]   \n",
      "\n",
      "    item_price           choice_desc_list  \n",
      "2       $3.39                     [Apple]  \n",
      "22      $3.39        [Pomegranate Cherry]  \n",
      "105     $3.39   [Pineapple Orange Banana]  \n",
      "173     $3.39                     [Apple]  \n",
      "205     $3.39              [Peach Orange]  \n",
      "Salad \n",
      "\n",
      "      order_id  quantity item_name  \\\n",
      "1414       575         1     Salad   \n",
      "1415       575         1     Salad   \n",
      "\n",
      "                                     choice_description item_price  \\\n",
      "1414  [Brown Rice, Adobo-Marinated and Grilled Chick...     $7.40    \n",
      "1415  [White Rice, Adobo-Marinated and Grilled Chick...     $7.40    \n",
      "\n",
      "                                       choice_desc_list  \n",
      "1414  [Brown Rice, Adobo-Marinated and Grilled Chick...  \n",
      "1415  [White Rice, Adobo-Marinated and Grilled Chick...  \n",
      "Side of Chips \n",
      "\n",
      "     order_id  quantity      item_name choice_description item_price  \\\n",
      "6           3         1  Side of Chips                NaN     $1.69    \n",
      "32         16         1  Side of Chips                NaN     $1.69    \n",
      "70         31         1  Side of Chips                NaN     $1.69    \n",
      "149        67         1  Side of Chips                NaN     $1.69    \n",
      "275       120         1  Side of Chips                NaN     $1.69    \n",
      "\n",
      "    choice_desc_list  \n",
      "6                 []  \n",
      "32                []  \n",
      "70                []  \n",
      "149               []  \n",
      "275               []  \n",
      "Steak Bowl \n",
      "\n",
      "     order_id  quantity   item_name  \\\n",
      "54         25         1  Steak Bowl   \n",
      "86         38         1  Steak Bowl   \n",
      "90         40         1  Steak Bowl   \n",
      "91         40         1  Steak Bowl   \n",
      "102        45         1  Steak Bowl   \n",
      "\n",
      "                                    choice_description item_price  \\\n",
      "54   [Fresh Tomato Salsa (Mild), [Black Beans, Rice...     $8.99    \n",
      "86   [Tomatillo-Red Chili Salsa (Hot), [Pinto Beans...     $8.99    \n",
      "90   [Fresh Tomato Salsa, [Rice, Black Beans, Chees...    $11.75    \n",
      "91   [Fresh Tomato Salsa, [Fajita Vegetables, Chees...    $11.75    \n",
      "102  [Tomatillo-Green Chili Salsa (Medium), [Rice, ...     $8.99    \n",
      "\n",
      "                                      choice_desc_list  \n",
      "54   [Fresh Tomato Salsa (Mild), Black Beans, Rice,...  \n",
      "86   [Tomatillo-Red Chili Salsa (Hot), Pinto Beans,...  \n",
      "90   [Fresh Tomato Salsa, Rice, Black Beans, Cheese...  \n",
      "91   [Fresh Tomato Salsa, Fajita Vegetables, Cheese...  \n",
      "102  [Tomatillo-Green Chili Salsa (Medium), Rice, C...  \n",
      "Steak Burrito \n",
      "\n",
      "    order_id  quantity      item_name  \\\n",
      "7          4         1  Steak Burrito   \n",
      "9          5         1  Steak Burrito   \n",
      "31        16         1  Steak Burrito   \n",
      "43        20         1  Steak Burrito   \n",
      "46        21         1  Steak Burrito   \n",
      "\n",
      "                                   choice_description item_price  \\\n",
      "7   [Tomatillo Red Chili Salsa, [Fajita Vegetables...    $11.75    \n",
      "9   [Fresh Tomato Salsa, [Rice, Black Beans, Pinto...     $9.25    \n",
      "31  [[Roasted Chili Corn Salsa (Medium), Fresh Tom...     $8.99    \n",
      "43  [Fresh Tomato Salsa, [Rice, Pinto Beans, Chees...    $11.75    \n",
      "46  [Tomatillo-Red Chili Salsa (Hot), [Rice, Fajit...     $8.99    \n",
      "\n",
      "                                     choice_desc_list  \n",
      "7   [Tomatillo Red Chili Salsa, Fajita Vegetables,...  \n",
      "9   [Fresh Tomato Salsa, Rice, Black Beans, Pinto ...  \n",
      "31  [Roasted Chili Corn Salsa (Medium), Fresh Toma...  \n",
      "43  [Fresh Tomato Salsa, Rice, Pinto Beans, Cheese...  \n",
      "46  [Tomatillo-Red Chili Salsa (Hot), Rice, Fajita...  \n",
      "Steak Crispy Tacos \n",
      "\n",
      "     order_id  quantity           item_name  \\\n",
      "92         40         1  Steak Crispy Tacos   \n",
      "437       190         1  Steak Crispy Tacos   \n",
      "581       238         1  Steak Crispy Tacos   \n",
      "729       301         1  Steak Crispy Tacos   \n",
      "774       319         1  Steak Crispy Tacos   \n",
      "\n",
      "                                    choice_description item_price  \\\n",
      "92                    [Fresh Tomato Salsa, Sour Cream]     $9.25    \n",
      "437  [[Roasted Chili Corn Salsa (Medium), Tomatillo...     $8.99    \n",
      "581  [Tomatillo Green Chili Salsa, [Fajita Vegetabl...     $9.25    \n",
      "729           [Fresh Tomato (Mild), [Lettuce, Cheese]]     $8.69    \n",
      "774  [Tomatillo-Green Chili Salsa (Medium), Pinto B...     $8.99    \n",
      "\n",
      "                                      choice_desc_list  \n",
      "92                    [Fresh Tomato Salsa, Sour Cream]  \n",
      "437  [Roasted Chili Corn Salsa (Medium), Tomatillo-...  \n",
      "581  [Tomatillo Green Chili Salsa, Fajita Vegetable...  \n",
      "729             [Fresh Tomato (Mild), Lettuce, Cheese]  \n"
     ]
    },
    {
     "name": "stdout",
     "output_type": "stream",
     "text": [
      "774  [Tomatillo-Green Chili Salsa (Medium), Pinto B...  \n",
      "Steak Salad \n",
      "\n",
      "      order_id  quantity    item_name  \\\n",
      "664        276         1  Steak Salad   \n",
      "752        311         1  Steak Salad   \n",
      "893        369         1  Steak Salad   \n",
      "3502      1406         1  Steak Salad   \n",
      "\n",
      "                                     choice_description item_price  \\\n",
      "664   [Tomatillo-Red Chili Salsa (Hot), [Black Beans...     $8.99    \n",
      "752   [Tomatillo-Red Chili Salsa (Hot), [Black Beans...     $8.99    \n",
      "893   [Fresh Tomato Salsa (Mild), [Rice, Cheese, Sou...     $8.99    \n",
      "3502                        [[Lettuce, Fajita Veggies]]     $8.69    \n",
      "\n",
      "                                       choice_desc_list  \n",
      "664   [Tomatillo-Red Chili Salsa (Hot), Black Beans,...  \n",
      "752   [Tomatillo-Red Chili Salsa (Hot), Black Beans,...  \n",
      "893   [Fresh Tomato Salsa (Mild), Rice, Cheese, Sour...  \n",
      "3502                          [Lettuce, Fajita Veggies]  \n",
      "Steak Salad Bowl \n",
      "\n",
      "     order_id  quantity         item_name  \\\n",
      "281       123         2  Steak Salad Bowl   \n",
      "606       250         1  Steak Salad Bowl   \n",
      "607       250         1  Steak Salad Bowl   \n",
      "613       253         2  Steak Salad Bowl   \n",
      "749       309         1  Steak Salad Bowl   \n",
      "\n",
      "                                    choice_description item_price  \\\n",
      "281  [Tomatillo Red Chili Salsa, [Black Beans, Chee...    $23.78    \n",
      "606  [Fresh Tomato Salsa, [Pinto Beans, Cheese, Gua...    $11.89    \n",
      "607                      [Fresh Tomato Salsa, Lettuce]     $9.39    \n",
      "613  [Tomatillo Red Chili Salsa, [Fajita Vegetables...    $23.78    \n",
      "749  [Roasted Chili Corn Salsa, [Rice, Cheese, Lett...    $11.89    \n",
      "\n",
      "                                      choice_desc_list  \n",
      "281  [Tomatillo Red Chili Salsa, Black Beans, Chees...  \n",
      "606  [Fresh Tomato Salsa, Pinto Beans, Cheese, Guac...  \n",
      "607                      [Fresh Tomato Salsa, Lettuce]  \n",
      "613  [Tomatillo Red Chili Salsa, Fajita Vegetables,...  \n",
      "749  [Roasted Chili Corn Salsa, Rice, Cheese, Lettu...  \n",
      "Steak Soft Tacos \n",
      "\n",
      "     order_id  quantity         item_name  \\\n",
      "8           4         1  Steak Soft Tacos   \n",
      "61         28         1  Steak Soft Tacos   \n",
      "65         29         1  Steak Soft Tacos   \n",
      "84         37         1  Steak Soft Tacos   \n",
      "118        52         1  Steak Soft Tacos   \n",
      "\n",
      "                                    choice_description item_price  \\\n",
      "8    [Tomatillo Green Chili Salsa, [Pinto Beans, Ch...     $9.25    \n",
      "61                        [Fresh Tomato Salsa, Cheese]     $9.25    \n",
      "65   [Tomatillo-Red Chili Salsa (Hot), [Rice, Chees...     $8.99    \n",
      "84                         [Tomatillo Red Chili Salsa]     $9.25    \n",
      "118  [[Roasted Chili Corn Salsa (Medium), Tomatillo...     $8.99    \n",
      "\n",
      "                                      choice_desc_list  \n",
      "8    [Tomatillo Green Chili Salsa, Pinto Beans, Che...  \n",
      "61                        [Fresh Tomato Salsa, Cheese]  \n",
      "65   [Tomatillo-Red Chili Salsa (Hot), Rice, Cheese...  \n",
      "84                         [Tomatillo Red Chili Salsa]  \n",
      "118  [Roasted Chili Corn Salsa (Medium), Tomatillo-...  \n",
      "Veggie Bowl \n",
      "\n",
      "     order_id  quantity    item_name  \\\n",
      "62         28         1  Veggie Bowl   \n",
      "85         38         1  Veggie Bowl   \n",
      "143        64         1  Veggie Bowl   \n",
      "157        71         1  Veggie Bowl   \n",
      "164        74         1  Veggie Bowl   \n",
      "\n",
      "                                    choice_description item_price  \\\n",
      "62   [Fresh Tomato Salsa, [Fajita Vegetables, Rice,...    $11.25    \n",
      "85   [Tomatillo-Red Chili Salsa (Hot), [Pinto Beans...     $8.49    \n",
      "143  [Tomatillo Red Chili Salsa, [Fajita Vegetables...    $11.25    \n",
      "157  [Tomatillo Red Chili Salsa, [Fajita Vegetables...    $11.25    \n",
      "164  [[Fresh Tomato Salsa (Mild), Roasted Chili Cor...     $8.49    \n",
      "\n",
      "                                      choice_desc_list  \n",
      "62   [Fresh Tomato Salsa, Fajita Vegetables, Rice, ...  \n",
      "85   [Tomatillo-Red Chili Salsa (Hot), Pinto Beans,...  \n",
      "143  [Tomatillo Red Chili Salsa, Fajita Vegetables,...  \n",
      "157  [Tomatillo Red Chili Salsa, Fajita Vegetables,...  \n",
      "164  [Fresh Tomato Salsa (Mild), Roasted Chili Corn...  \n",
      "Veggie Burrito \n",
      "\n",
      "     order_id  quantity       item_name  \\\n",
      "57         26         1  Veggie Burrito   \n",
      "104        46         1  Veggie Burrito   \n",
      "225        99         1  Veggie Burrito   \n",
      "394       171         1  Veggie Burrito   \n",
      "435       189         1  Veggie Burrito   \n",
      "\n",
      "                                    choice_description item_price  \\\n",
      "57   [Tomatillo Red Chili Salsa, [Fajita Vegetables...    $11.25    \n",
      "104  [Fresh Tomato Salsa (Mild), [Black Beans, Rice...     $8.49    \n",
      "225  [Tomatillo Red Chili Salsa, [Black Beans, Chee...    $11.25    \n",
      "394           [Tomatillo Green Chili Salsa, Guacamole]    $11.25    \n",
      "435  [[Roasted Chili Corn Salsa (Medium), Fresh Tom...    $10.98    \n",
      "\n",
      "                                      choice_desc_list  \n",
      "57   [Tomatillo Red Chili Salsa, Fajita Vegetables,...  \n",
      "104  [Fresh Tomato Salsa (Mild), Black Beans, Rice,...  \n",
      "225  [Tomatillo Red Chili Salsa, Black Beans, Chees...  \n",
      "394           [Tomatillo Green Chili Salsa, Guacamole]  \n",
      "435  [Roasted Chili Corn Salsa (Medium), Fresh Toma...  \n",
      "Veggie Crispy Tacos \n",
      "\n",
      "      order_id  quantity            item_name  \\\n",
      "1653       668         1  Veggie Crispy Tacos   \n",
      "\n",
      "                                     choice_description item_price  \\\n",
      "1653  [Fresh Tomato Salsa (Mild), [Pinto Beans, Rice...     $8.49    \n",
      "\n",
      "                                       choice_desc_list  \n",
      "1653  [Fresh Tomato Salsa (Mild), Pinto Beans, Rice,...  \n",
      "Veggie Salad \n",
      "\n",
      "      order_id  quantity     item_name  \\\n",
      "1694       686         1  Veggie Salad   \n",
      "2756      1094         1  Veggie Salad   \n",
      "2996      1192         1  Veggie Salad   \n",
      "3163      1263         1  Veggie Salad   \n",
      "3471      1395         1  Veggie Salad   \n",
      "\n",
      "                                     choice_description item_price  \\\n",
      "1694  [[Fresh Tomato Salsa (Mild), Roasted Chili Cor...     $8.49    \n",
      "2756  [[Tomatillo-Green Chili Salsa (Medium), Roaste...     $8.49    \n",
      "2996  [Roasted Chili Corn Salsa (Medium), [Black Bea...     $8.49    \n",
      "3163  [[Fresh Tomato Salsa (Mild), Roasted Chili Cor...     $8.49    \n",
      "3471  [[Tomatillo-Green Chili Salsa (Medium), Roaste...     $8.49    \n",
      "\n",
      "                                       choice_desc_list  \n",
      "1694  [Fresh Tomato Salsa (Mild), Roasted Chili Corn...  \n",
      "2756  [Tomatillo-Green Chili Salsa (Medium), Roasted...  \n",
      "2996  [Roasted Chili Corn Salsa (Medium), Black Bean...  \n",
      "3163  [Fresh Tomato Salsa (Mild), Roasted Chili Corn...  \n",
      "3471  [Tomatillo-Green Chili Salsa (Medium), Roasted...  \n",
      "Veggie Salad Bowl \n",
      "\n",
      "     order_id  quantity          item_name  \\\n",
      "186        83         1  Veggie Salad Bowl   \n",
      "295       128         1  Veggie Salad Bowl   \n",
      "455       195         1  Veggie Salad Bowl   \n",
      "496       207         1  Veggie Salad Bowl   \n",
      "960       394         1  Veggie Salad Bowl   \n",
      "\n",
      "                                    choice_description item_price  \\\n",
      "186  [Fresh Tomato Salsa, [Fajita Vegetables, Rice,...    $11.25    \n",
      "295  [Fresh Tomato Salsa, [Fajita Vegetables, Lettu...    $11.25    \n",
      "455  [Fresh Tomato Salsa, [Fajita Vegetables, Rice,...    $11.25    \n",
      "496  [Fresh Tomato Salsa, [Rice, Lettuce, Guacamole...    $11.25    \n",
      "960  [Fresh Tomato Salsa, [Fajita Vegetables, Lettu...     $8.75    \n",
      "\n",
      "                                      choice_desc_list  \n",
      "186  [Fresh Tomato Salsa, Fajita Vegetables, Rice, ...  \n",
      "295  [Fresh Tomato Salsa, Fajita Vegetables, Lettuc...  \n",
      "455  [Fresh Tomato Salsa, Fajita Vegetables, Rice, ...  \n",
      "496  [Fresh Tomato Salsa, Rice, Lettuce, Guacamole,...  \n",
      "960   [Fresh Tomato Salsa, Fajita Vegetables, Lettuce]  \n",
      "Veggie Soft Tacos \n",
      "\n",
      "      order_id  quantity          item_name  \\\n",
      "738        304         1  Veggie Soft Tacos   \n",
      "781        322         1  Veggie Soft Tacos   \n",
      "1395       567         1  Veggie Soft Tacos   \n",
      "1699       688         1  Veggie Soft Tacos   \n",
      "2384       948         1  Veggie Soft Tacos   \n",
      "\n",
      "                                     choice_description item_price  \\\n",
      "738   [Tomatillo Red Chili Salsa, [Fajita Vegetables...    $11.25    \n",
      "781   [Fresh Tomato Salsa, [Black Beans, Cheese, Sou...     $8.75    \n",
      "1395  [Fresh Tomato Salsa (Mild), [Pinto Beans, Rice...     $8.49    \n",
      "1699  [Fresh Tomato Salsa, [Fajita Vegetables, Rice,...    $11.25    \n",
      "2384  [Roasted Chili Corn Salsa, [Fajita Vegetables,...     $8.75    \n",
      "\n",
      "                                       choice_desc_list  \n",
      "738   [Tomatillo Red Chili Salsa, Fajita Vegetables,...  \n",
      "781   [Fresh Tomato Salsa, Black Beans, Cheese, Sour...  \n",
      "1395  [Fresh Tomato Salsa (Mild), Pinto Beans, Rice,...  \n",
      "1699  [Fresh Tomato Salsa, Fajita Vegetables, Rice, ...  \n",
      "2384  [Roasted Chili Corn Salsa, Fajita Vegetables, ...  \n"
     ]
    }
   ],
   "source": [
    "# g is `chipo` dataframe *grouped by*\n",
    "# `item_name` values\n",
    "for item_name, item_name_df in g:\n",
    "    print(item_name, '\\n')\n",
    "    print(item_name_df.head())"
   ]
  },
  {
   "cell_type": "markdown",
   "metadata": {},
   "source": [
    "So: to each possible `item_name` value that there is within the data set (specifically within the column `chipo['item_name']`), `g` has associated the \"sub-dataframe\" whose `item_name` value is that one."
   ]
  },
  {
   "cell_type": "markdown",
   "metadata": {},
   "source": [
    "Now that we have this `GroupBy` object, we can \"sum up\" each group which has been made by `item_name`:"
   ]
  },
  {
   "cell_type": "code",
   "execution_count": 65,
   "metadata": {},
   "outputs": [
    {
     "data": {
      "text/html": [
       "<div>\n",
       "<style scoped>\n",
       "    .dataframe tbody tr th:only-of-type {\n",
       "        vertical-align: middle;\n",
       "    }\n",
       "\n",
       "    .dataframe tbody tr th {\n",
       "        vertical-align: top;\n",
       "    }\n",
       "\n",
       "    .dataframe thead th {\n",
       "        text-align: right;\n",
       "    }\n",
       "</style>\n",
       "<table border=\"1\" class=\"dataframe\">\n",
       "  <thead>\n",
       "    <tr style=\"text-align: right;\">\n",
       "      <th></th>\n",
       "      <th>order_id</th>\n",
       "      <th>quantity</th>\n",
       "    </tr>\n",
       "    <tr>\n",
       "      <th>item_name</th>\n",
       "      <th></th>\n",
       "      <th></th>\n",
       "    </tr>\n",
       "  </thead>\n",
       "  <tbody>\n",
       "    <tr>\n",
       "      <th>6 Pack Soft Drink</th>\n",
       "      <td>52322</td>\n",
       "      <td>55</td>\n",
       "    </tr>\n",
       "    <tr>\n",
       "      <th>Barbacoa Bowl</th>\n",
       "      <td>53972</td>\n",
       "      <td>66</td>\n",
       "    </tr>\n",
       "    <tr>\n",
       "      <th>Barbacoa Burrito</th>\n",
       "      <td>74718</td>\n",
       "      <td>91</td>\n",
       "    </tr>\n",
       "    <tr>\n",
       "      <th>Barbacoa Crispy Tacos</th>\n",
       "      <td>5613</td>\n",
       "      <td>12</td>\n",
       "    </tr>\n",
       "    <tr>\n",
       "      <th>Barbacoa Salad Bowl</th>\n",
       "      <td>9708</td>\n",
       "      <td>10</td>\n",
       "    </tr>\n",
       "    <tr>\n",
       "      <th>Barbacoa Soft Tacos</th>\n",
       "      <td>18725</td>\n",
       "      <td>25</td>\n",
       "    </tr>\n",
       "    <tr>\n",
       "      <th>Bottled Water</th>\n",
       "      <td>175944</td>\n",
       "      <td>211</td>\n",
       "    </tr>\n",
       "    <tr>\n",
       "      <th>Bowl</th>\n",
       "      <td>472</td>\n",
       "      <td>4</td>\n",
       "    </tr>\n",
       "    <tr>\n",
       "      <th>Burrito</th>\n",
       "      <td>1550</td>\n",
       "      <td>6</td>\n",
       "    </tr>\n",
       "    <tr>\n",
       "      <th>Canned Soda</th>\n",
       "      <td>76396</td>\n",
       "      <td>126</td>\n",
       "    </tr>\n",
       "    <tr>\n",
       "      <th>Canned Soft Drink</th>\n",
       "      <td>304753</td>\n",
       "      <td>351</td>\n",
       "    </tr>\n",
       "    <tr>\n",
       "      <th>Carnitas Bowl</th>\n",
       "      <td>62742</td>\n",
       "      <td>71</td>\n",
       "    </tr>\n",
       "    <tr>\n",
       "      <th>Carnitas Burrito</th>\n",
       "      <td>51652</td>\n",
       "      <td>60</td>\n",
       "    </tr>\n",
       "    <tr>\n",
       "      <th>Carnitas Crispy Tacos</th>\n",
       "      <td>5868</td>\n",
       "      <td>8</td>\n",
       "    </tr>\n",
       "    <tr>\n",
       "      <th>Carnitas Salad</th>\n",
       "      <td>1500</td>\n",
       "      <td>1</td>\n",
       "    </tr>\n",
       "    <tr>\n",
       "      <th>Carnitas Salad Bowl</th>\n",
       "      <td>6693</td>\n",
       "      <td>6</td>\n",
       "    </tr>\n",
       "    <tr>\n",
       "      <th>Carnitas Soft Tacos</th>\n",
       "      <td>37673</td>\n",
       "      <td>40</td>\n",
       "    </tr>\n",
       "    <tr>\n",
       "      <th>Chicken Bowl</th>\n",
       "      <td>713926</td>\n",
       "      <td>761</td>\n",
       "    </tr>\n",
       "    <tr>\n",
       "      <th>Chicken Burrito</th>\n",
       "      <td>497303</td>\n",
       "      <td>591</td>\n",
       "    </tr>\n",
       "    <tr>\n",
       "      <th>Chicken Crispy Tacos</th>\n",
       "      <td>47382</td>\n",
       "      <td>50</td>\n",
       "    </tr>\n",
       "    <tr>\n",
       "      <th>Chicken Salad</th>\n",
       "      <td>10465</td>\n",
       "      <td>9</td>\n",
       "    </tr>\n",
       "    <tr>\n",
       "      <th>Chicken Salad Bowl</th>\n",
       "      <td>117104</td>\n",
       "      <td>123</td>\n",
       "    </tr>\n",
       "    <tr>\n",
       "      <th>Chicken Soft Tacos</th>\n",
       "      <td>98395</td>\n",
       "      <td>120</td>\n",
       "    </tr>\n",
       "    <tr>\n",
       "      <th>Chips</th>\n",
       "      <td>208004</td>\n",
       "      <td>230</td>\n",
       "    </tr>\n",
       "    <tr>\n",
       "      <th>Chips and Fresh Tomato Salsa</th>\n",
       "      <td>100419</td>\n",
       "      <td>130</td>\n",
       "    </tr>\n",
       "    <tr>\n",
       "      <th>Chips and Guacamole</th>\n",
       "      <td>449959</td>\n",
       "      <td>506</td>\n",
       "    </tr>\n",
       "    <tr>\n",
       "      <th>Chips and Mild Fresh Tomato Salsa</th>\n",
       "      <td>279</td>\n",
       "      <td>1</td>\n",
       "    </tr>\n",
       "    <tr>\n",
       "      <th>Chips and Roasted Chili Corn Salsa</th>\n",
       "      <td>14999</td>\n",
       "      <td>23</td>\n",
       "    </tr>\n",
       "    <tr>\n",
       "      <th>Chips and Roasted Chili-Corn Salsa</th>\n",
       "      <td>17462</td>\n",
       "      <td>18</td>\n",
       "    </tr>\n",
       "    <tr>\n",
       "      <th>Chips and Tomatillo Green Chili Salsa</th>\n",
       "      <td>41170</td>\n",
       "      <td>45</td>\n",
       "    </tr>\n",
       "    <tr>\n",
       "      <th>Chips and Tomatillo Red Chili Salsa</th>\n",
       "      <td>45556</td>\n",
       "      <td>50</td>\n",
       "    </tr>\n",
       "    <tr>\n",
       "      <th>Chips and Tomatillo-Green Chili Salsa</th>\n",
       "      <td>21826</td>\n",
       "      <td>33</td>\n",
       "    </tr>\n",
       "    <tr>\n",
       "      <th>Chips and Tomatillo-Red Chili Salsa</th>\n",
       "      <td>18344</td>\n",
       "      <td>25</td>\n",
       "    </tr>\n",
       "    <tr>\n",
       "      <th>Crispy Tacos</th>\n",
       "      <td>434</td>\n",
       "      <td>2</td>\n",
       "    </tr>\n",
       "    <tr>\n",
       "      <th>Izze</th>\n",
       "      <td>10587</td>\n",
       "      <td>20</td>\n",
       "    </tr>\n",
       "    <tr>\n",
       "      <th>Nantucket Nectar</th>\n",
       "      <td>21814</td>\n",
       "      <td>29</td>\n",
       "    </tr>\n",
       "    <tr>\n",
       "      <th>Salad</th>\n",
       "      <td>1150</td>\n",
       "      <td>2</td>\n",
       "    </tr>\n",
       "    <tr>\n",
       "      <th>Side of Chips</th>\n",
       "      <td>84769</td>\n",
       "      <td>110</td>\n",
       "    </tr>\n",
       "    <tr>\n",
       "      <th>Steak Bowl</th>\n",
       "      <td>193752</td>\n",
       "      <td>221</td>\n",
       "    </tr>\n",
       "    <tr>\n",
       "      <th>Steak Burrito</th>\n",
       "      <td>328437</td>\n",
       "      <td>386</td>\n",
       "    </tr>\n",
       "    <tr>\n",
       "      <th>Steak Crispy Tacos</th>\n",
       "      <td>35818</td>\n",
       "      <td>36</td>\n",
       "    </tr>\n",
       "    <tr>\n",
       "      <th>Steak Salad</th>\n",
       "      <td>2362</td>\n",
       "      <td>4</td>\n",
       "    </tr>\n",
       "    <tr>\n",
       "      <th>Steak Salad Bowl</th>\n",
       "      <td>29590</td>\n",
       "      <td>31</td>\n",
       "    </tr>\n",
       "    <tr>\n",
       "      <th>Steak Soft Tacos</th>\n",
       "      <td>50177</td>\n",
       "      <td>56</td>\n",
       "    </tr>\n",
       "    <tr>\n",
       "      <th>Veggie Bowl</th>\n",
       "      <td>72270</td>\n",
       "      <td>87</td>\n",
       "    </tr>\n",
       "    <tr>\n",
       "      <th>Veggie Burrito</th>\n",
       "      <td>80962</td>\n",
       "      <td>97</td>\n",
       "    </tr>\n",
       "    <tr>\n",
       "      <th>Veggie Crispy Tacos</th>\n",
       "      <td>668</td>\n",
       "      <td>1</td>\n",
       "    </tr>\n",
       "    <tr>\n",
       "      <th>Veggie Salad</th>\n",
       "      <td>7265</td>\n",
       "      <td>6</td>\n",
       "    </tr>\n",
       "    <tr>\n",
       "      <th>Veggie Salad Bowl</th>\n",
       "      <td>17303</td>\n",
       "      <td>18</td>\n",
       "    </tr>\n",
       "    <tr>\n",
       "      <th>Veggie Soft Tacos</th>\n",
       "      <td>5520</td>\n",
       "      <td>8</td>\n",
       "    </tr>\n",
       "  </tbody>\n",
       "</table>\n",
       "</div>"
      ],
      "text/plain": [
       "                                       order_id  quantity\n",
       "item_name                                                \n",
       "6 Pack Soft Drink                         52322        55\n",
       "Barbacoa Bowl                             53972        66\n",
       "Barbacoa Burrito                          74718        91\n",
       "Barbacoa Crispy Tacos                      5613        12\n",
       "Barbacoa Salad Bowl                        9708        10\n",
       "Barbacoa Soft Tacos                       18725        25\n",
       "Bottled Water                            175944       211\n",
       "Bowl                                        472         4\n",
       "Burrito                                    1550         6\n",
       "Canned Soda                               76396       126\n",
       "Canned Soft Drink                        304753       351\n",
       "Carnitas Bowl                             62742        71\n",
       "Carnitas Burrito                          51652        60\n",
       "Carnitas Crispy Tacos                      5868         8\n",
       "Carnitas Salad                             1500         1\n",
       "Carnitas Salad Bowl                        6693         6\n",
       "Carnitas Soft Tacos                       37673        40\n",
       "Chicken Bowl                             713926       761\n",
       "Chicken Burrito                          497303       591\n",
       "Chicken Crispy Tacos                      47382        50\n",
       "Chicken Salad                             10465         9\n",
       "Chicken Salad Bowl                       117104       123\n",
       "Chicken Soft Tacos                        98395       120\n",
       "Chips                                    208004       230\n",
       "Chips and Fresh Tomato Salsa             100419       130\n",
       "Chips and Guacamole                      449959       506\n",
       "Chips and Mild Fresh Tomato Salsa           279         1\n",
       "Chips and Roasted Chili Corn Salsa        14999        23\n",
       "Chips and Roasted Chili-Corn Salsa        17462        18\n",
       "Chips and Tomatillo Green Chili Salsa     41170        45\n",
       "Chips and Tomatillo Red Chili Salsa       45556        50\n",
       "Chips and Tomatillo-Green Chili Salsa     21826        33\n",
       "Chips and Tomatillo-Red Chili Salsa       18344        25\n",
       "Crispy Tacos                                434         2\n",
       "Izze                                      10587        20\n",
       "Nantucket Nectar                          21814        29\n",
       "Salad                                      1150         2\n",
       "Side of Chips                             84769       110\n",
       "Steak Bowl                               193752       221\n",
       "Steak Burrito                            328437       386\n",
       "Steak Crispy Tacos                        35818        36\n",
       "Steak Salad                                2362         4\n",
       "Steak Salad Bowl                          29590        31\n",
       "Steak Soft Tacos                          50177        56\n",
       "Veggie Bowl                               72270        87\n",
       "Veggie Burrito                            80962        97\n",
       "Veggie Crispy Tacos                         668         1\n",
       "Veggie Salad                               7265         6\n",
       "Veggie Salad Bowl                         17303        18\n",
       "Veggie Soft Tacos                          5520         8"
      ]
     },
     "execution_count": 65,
     "metadata": {},
     "output_type": "execute_result"
    }
   ],
   "source": [
    "g_sum = g.sum()\n",
    "g_sum"
   ]
  },
  {
   "cell_type": "markdown",
   "metadata": {},
   "source": [
    "If we don't give more specific instruction i.e. indicate _which_ field we want summed up per group, then the default behavior is to _sum up any numeric fields._ So far, these are `order_id` (whose sum isn't really meaningful here) and `quantity` (whose sum does have significance.) We prefer to add up `quantity`'s, so let's do that:"
   ]
  },
  {
   "cell_type": "code",
   "execution_count": 73,
   "metadata": {},
   "outputs": [
    {
     "data": {
      "text/plain": [
       "item_name\n",
       "Chicken Bowl    761\n",
       "Name: quantity, dtype: int64"
      ]
     },
     "execution_count": 73,
     "metadata": {},
     "output_type": "execute_result"
    }
   ],
   "source": [
    "g_sum_qty = g['quantity'].sum()\n",
    "g_sum_qty.sort_values(ascending=False).head(1)"
   ]
  },
  {
   "cell_type": "markdown",
   "metadata": {},
   "source": [
    "### Step 11. What was the most ordered item in the choice_description column?"
   ]
  },
  {
   "cell_type": "code",
   "execution_count": 24,
   "metadata": {},
   "outputs": [
    {
     "data": {
      "text/plain": [
       "0                                                     NaN\n",
       "1                                            [Clementine]\n",
       "2                                                 [Apple]\n",
       "3                                                     NaN\n",
       "4       [Tomatillo-Red Chili Salsa (Hot), [Black Beans...\n",
       "                              ...                        \n",
       "4617    [Fresh Tomato Salsa, [Rice, Black Beans, Sour ...\n",
       "4618    [Fresh Tomato Salsa, [Rice, Sour Cream, Cheese...\n",
       "4619    [Fresh Tomato Salsa, [Fajita Vegetables, Pinto...\n",
       "4620    [Fresh Tomato Salsa, [Fajita Vegetables, Lettu...\n",
       "4621    [Fresh Tomato Salsa, [Fajita Vegetables, Pinto...\n",
       "Name: choice_description, Length: 4622, dtype: object"
      ]
     },
     "execution_count": 24,
     "metadata": {},
     "output_type": "execute_result"
    }
   ],
   "source": [
    "chipo.choice_description"
   ]
  },
  {
   "cell_type": "markdown",
   "metadata": {},
   "source": [
    "Observe that these are either `NaN`'s or else lists (possibly containing nested list(s)). _e.g._"
   ]
  },
  {
   "cell_type": "code",
   "execution_count": 38,
   "metadata": {},
   "outputs": [
    {
     "name": "stdout",
     "output_type": "stream",
     "text": [
      "nan\n",
      "<class 'float'>\n",
      "[Apple]\n",
      "<class 'str'>\n",
      "[Tomatillo-Red Chili Salsa (Hot), [Black Beans, Rice, Cheese, Sour Cream]]\n",
      "<class 'str'>\n"
     ]
    }
   ],
   "source": [
    "# 'NaN'\n",
    "print(chipo.choice_description[0])\n",
    "print(type(chipo.choice_description[0]))\n",
    "\n",
    "# a simple list\n",
    "print(chipo.choice_description[2])\n",
    "print(type(chipo.choice_description[2]))\n",
    "\n",
    "# a nested list\n",
    "print(chipo.choice_description[4])\n",
    "print(type(chipo.choice_description[4]))"
   ]
  },
  {
   "cell_type": "code",
   "execution_count": 27,
   "metadata": {},
   "outputs": [],
   "source": [
    "# ?\n",
    "# from ast import literal_eval"
   ]
  },
  {
   "cell_type": "code",
   "execution_count": 29,
   "metadata": {},
   "outputs": [],
   "source": [
    "# This doesn't work because the elements within the lists\n",
    "# are not \"tokenized\" as Python strings: instead, they don't\n",
    "# exist within quotation marks, so 'literal_eval' attempts \n",
    "# to interpret them like variables or something else\n",
    "# choice_desc_list_4 = literal_eval(chipo.choice_description[4])\n",
    "# choice_desc_list_4"
   ]
  },
  {
   "cell_type": "code",
   "execution_count": 50,
   "metadata": {},
   "outputs": [
    {
     "name": "stdout",
     "output_type": "stream",
     "text": [
      "nan\n",
      "[]\n",
      "[Apple]\n",
      "['Apple']\n",
      "[Tomatillo-Red Chili Salsa (Hot), [Black Beans, Rice, Cheese, Sour Cream]]\n",
      "['Tomatillo-Red Chili Salsa (Hot)', 'Black Beans', 'Rice', 'Cheese', 'Sour Cream']\n"
     ]
    }
   ],
   "source": [
    "# Instead of working backwards from the column value\n",
    "# (as the tokenization of a Python list) to the exact\n",
    "# list which it represents, the following proceeds\n",
    "# directly to the flattened list containing all \n",
    "# elements of the putative list (less principled, but \n",
    "# gets where I'm going faster)\n",
    "import re\n",
    "\n",
    "def list_token_to_items(list_token):\n",
    "    if isinstance(list_token, str):\n",
    "        split_on_seps = re.split(r'[\\[,\\]]', list_token)\n",
    "        # trim whitespace\n",
    "        item_tokens = map(lambda s: s.strip(), split_on_seps)\n",
    "        # remove empty-string tokens\n",
    "        item_tokens = filter(lambda s: s != '', item_tokens)\n",
    "        return list(item_tokens)\n",
    "    else:\n",
    "        return []\n",
    "\n",
    "# e.g. \n",
    "choice_desc_str_0 = chipo.choice_description[0]\n",
    "print(choice_desc_str_0)\n",
    "choice_desc_items_0 = list_token_to_items(choice_desc_str_0)\n",
    "print(choice_desc_items_0)\n",
    "\n",
    "choice_desc_str_2 = chipo.choice_description[2]\n",
    "print(choice_desc_str_2)\n",
    "choice_desc_items_2 = list_token_to_items(choice_desc_str_2)\n",
    "print(choice_desc_items_2)\n",
    "\n",
    "choice_desc_str_4 = chipo.choice_description[4]\n",
    "print(choice_desc_str_4)\n",
    "choice_desc_items_4 = list_token_to_items(choice_desc_str_4)\n",
    "print(choice_desc_items_4)"
   ]
  },
  {
   "cell_type": "code",
   "execution_count": 51,
   "metadata": {},
   "outputs": [
    {
     "data": {
      "text/plain": [
       "0                                                      []\n",
       "1                                            [Clementine]\n",
       "2                                                 [Apple]\n",
       "3                                                      []\n",
       "4       [Tomatillo-Red Chili Salsa (Hot), Black Beans,...\n",
       "                              ...                        \n",
       "4617    [Fresh Tomato Salsa, Rice, Black Beans, Sour C...\n",
       "4618    [Fresh Tomato Salsa, Rice, Sour Cream, Cheese,...\n",
       "4619    [Fresh Tomato Salsa, Fajita Vegetables, Pinto ...\n",
       "4620     [Fresh Tomato Salsa, Fajita Vegetables, Lettuce]\n",
       "4621    [Fresh Tomato Salsa, Fajita Vegetables, Pinto ...\n",
       "Name: choice_desc_list, Length: 4622, dtype: object"
      ]
     },
     "execution_count": 51,
     "metadata": {},
     "output_type": "execute_result"
    }
   ],
   "source": [
    "# transform the 'choice_description' column using our function\n",
    "# ?\n",
    "chipo['choice_desc_list'] = chipo['choice_description'].apply(list_token_to_items)\n",
    "chipo['choice_desc_list']"
   ]
  },
  {
   "cell_type": "code",
   "execution_count": 53,
   "metadata": {},
   "outputs": [
    {
     "data": {
      "text/plain": [
       "0    Tomatillo-Red Chili Salsa (Hot)\n",
       "1                        Black Beans\n",
       "2                               Rice\n",
       "3                             Cheese\n",
       "4                         Sour Cream\n",
       "dtype: object"
      ]
     },
     "execution_count": 53,
     "metadata": {},
     "output_type": "execute_result"
    }
   ],
   "source": [
    "# can I make pandas Series out of these 'object'-dtype'd values?\n",
    "chipo_desc_list_4 = pd.Series(\n",
    "    np.asarray(chipo.choice_desc_list[4]))\n",
    "chipo_desc_list_4"
   ]
  },
  {
   "cell_type": "code",
   "execution_count": 55,
   "metadata": {},
   "outputs": [],
   "source": [
    "chipo_all_items = pd.concat(\n",
    "    [pd.Series(np.asarray(chipo.choice_desc_list[j]))\n",
    "     for j in range(len(chipo))])"
   ]
  },
  {
   "cell_type": "code",
   "execution_count": 56,
   "metadata": {},
   "outputs": [
    {
     "data": {
      "text/plain": [
       "Rice                                    2389\n",
       "Cheese                                  2281\n",
       "Lettuce                                 1742\n",
       "Sour Cream                              1711\n",
       "Black Beans                             1342\n",
       "Fresh Tomato Salsa                      1046\n",
       "Guacamole                               1037\n",
       "Fajita Vegetables                        722\n",
       "Pinto Beans                              582\n",
       "Roasted Chili Corn Salsa                 457\n",
       "Fresh Tomato Salsa (Mild)                351\n",
       "Tomatillo Red Chili Salsa                325\n",
       "Fajita Veggies                           302\n",
       "Roasted Chili Corn Salsa (Medium)        270\n",
       "Tomatillo-Red Chili Salsa (Hot)          259\n",
       "Tomatillo Green Chili Salsa              230\n",
       "Diet Coke                                134\n",
       "Tomatillo-Green Chili Salsa (Medium)     128\n",
       "Coke                                     123\n",
       "Sprite                                    77\n",
       "Lemonade                                  33\n",
       "Fresh Tomato (Mild)                       31\n",
       "Coca Cola                                 26\n",
       "Nestea                                    20\n",
       "Dr. Pepper                                18\n",
       "Mountain Dew                              15\n",
       "Diet Dr. Pepper                           13\n",
       "Pineapple Orange Banana                    8\n",
       "Blackberry                                 8\n",
       "Peach Orange                               8\n",
       "Clementine                                 8\n",
       "Cilantro-Lime Rice                         7\n",
       "Apple                                      6\n",
       "Salsa                                      6\n",
       "Pomegranate Cherry                         5\n",
       "Adobo-Marinated and Grilled Chicken        5\n",
       "White Rice                                 5\n",
       "Grapefruit                                 4\n",
       "Adobo-Marinated and Grilled Steak          4\n",
       "Roasted Chili Corn (Medium)                3\n",
       "Tomatillo Red Chili (Hot)                  3\n",
       "Vegetarian Black Beans                     3\n",
       "Tomatillo Green Chili (Medium)             2\n",
       "Braised Barbacoa                           2\n",
       "Brown Rice                                 2\n",
       "Braised Carnitas                           1\n",
       "dtype: int64"
      ]
     },
     "execution_count": 56,
     "metadata": {},
     "output_type": "execute_result"
    }
   ],
   "source": [
    "chipo_all_items.value_counts()"
   ]
  },
  {
   "cell_type": "markdown",
   "metadata": {},
   "source": [
    "The most ordered item in the `choice_description` column _if we count within all the lists which each value represents_ is 'Rice', followed by 'Cheese'."
   ]
  },
  {
   "cell_type": "markdown",
   "metadata": {},
   "source": [
    "Otherwise (i.e. if we just care about the string values themselves), we would just need the following. _This is the actual solution that was expected for this exercise:_"
   ]
  },
  {
   "cell_type": "code",
   "execution_count": 80,
   "metadata": {},
   "outputs": [
    {
     "data": {
      "text/plain": [
       "choice_description\n",
       "[Diet Coke]                                                               159\n",
       "[Coke]                                                                    143\n",
       "[Sprite]                                                                   89\n",
       "[Fresh Tomato Salsa, [Rice, Black Beans, Cheese, Sour Cream, Lettuce]]     49\n",
       "[Fresh Tomato Salsa, [Rice, Black Beans, Cheese, Sour Cream]]              42\n",
       "Name: quantity, dtype: int64"
      ]
     },
     "execution_count": 80,
     "metadata": {},
     "output_type": "execute_result"
    }
   ],
   "source": [
    "choice_desc = chipo.groupby('choice_description').sum()\n",
    "choice_desc.sort_values(by='quantity', ascending=False)['quantity'].head(5)"
   ]
  },
  {
   "cell_type": "markdown",
   "metadata": {},
   "source": [
    "which shows that 'Diet Coke' was most common."
   ]
  },
  {
   "cell_type": "markdown",
   "metadata": {},
   "source": [
    "### Step 12. How many items were orderd in total?"
   ]
  },
  {
   "cell_type": "code",
   "execution_count": 81,
   "metadata": {},
   "outputs": [
    {
     "data": {
      "text/plain": [
       "4972"
      ]
     },
     "execution_count": 81,
     "metadata": {},
     "output_type": "execute_result"
    }
   ],
   "source": [
    "item_ordered_total = chipo.quantity.sum()\n",
    "item_ordered_total"
   ]
  },
  {
   "cell_type": "markdown",
   "metadata": {},
   "source": [
    "### Step 13. Turn the item price into a float"
   ]
  },
  {
   "cell_type": "markdown",
   "metadata": {},
   "source": [
    "#### Step 13.a. Check the item price type"
   ]
  },
  {
   "cell_type": "code",
   "execution_count": 83,
   "metadata": {
    "scrolled": true
   },
   "outputs": [
    {
     "data": {
      "text/plain": [
       "order_id               int64\n",
       "quantity               int64\n",
       "item_name             object\n",
       "choice_description    object\n",
       "item_price            object\n",
       "choice_desc_list      object\n",
       "dtype: object"
      ]
     },
     "execution_count": 83,
     "metadata": {},
     "output_type": "execute_result"
    }
   ],
   "source": [
    "chipo.dtypes"
   ]
  },
  {
   "cell_type": "markdown",
   "metadata": {},
   "source": [
    "#### Step 13.b. Create a lambda function and change the type of item price"
   ]
  },
  {
   "cell_type": "code",
   "execution_count": 86,
   "metadata": {},
   "outputs": [],
   "source": [
    "# discard the leading currency symbol\n",
    "item_price_to_float = lambda item_price: float(item_price[1:])\n",
    "chipo['item_price'] = chipo.item_price.apply(item_price_to_float)"
   ]
  },
  {
   "cell_type": "markdown",
   "metadata": {},
   "source": [
    "#### Step 13.c. Check the item price type"
   ]
  },
  {
   "cell_type": "code",
   "execution_count": 87,
   "metadata": {},
   "outputs": [
    {
     "data": {
      "text/plain": [
       "order_id                int64\n",
       "quantity                int64\n",
       "item_name              object\n",
       "choice_description     object\n",
       "item_price            float64\n",
       "choice_desc_list       object\n",
       "dtype: object"
      ]
     },
     "execution_count": 87,
     "metadata": {},
     "output_type": "execute_result"
    }
   ],
   "source": [
    "chipo.dtypes"
   ]
  },
  {
   "cell_type": "markdown",
   "metadata": {},
   "source": [
    "_`item_price` is now a `float64`!_"
   ]
  },
  {
   "cell_type": "markdown",
   "metadata": {},
   "source": [
    "### Step 14. How much was the revenue for the period in the dataset?"
   ]
  },
  {
   "cell_type": "code",
   "execution_count": 88,
   "metadata": {},
   "outputs": [
    {
     "data": {
      "text/plain": [
       "34500.16"
      ]
     },
     "execution_count": 88,
     "metadata": {},
     "output_type": "execute_result"
    }
   ],
   "source": [
    "# add up all `item_price` values\n",
    "tot_revenue = chipo.item_price.sum()\n",
    "tot_revenue"
   ]
  },
  {
   "cell_type": "markdown",
   "metadata": {},
   "source": [
    "$34,500.16"
   ]
  },
  {
   "cell_type": "markdown",
   "metadata": {},
   "source": [
    "_I think the \"official\" published solution is **incorrect** here because it is multiplying `item_price` by `quantity` for each row. But when comparing different rows that have the same `item_name`, it appears that the `item_price` already factors in the `quantity` purchased in the order. e.g.:_"
   ]
  },
  {
   "cell_type": "code",
   "execution_count": 110,
   "metadata": {},
   "outputs": [
    {
     "data": {
      "text/html": [
       "<div>\n",
       "<style scoped>\n",
       "    .dataframe tbody tr th:only-of-type {\n",
       "        vertical-align: middle;\n",
       "    }\n",
       "\n",
       "    .dataframe tbody tr th {\n",
       "        vertical-align: top;\n",
       "    }\n",
       "\n",
       "    .dataframe thead th {\n",
       "        text-align: right;\n",
       "    }\n",
       "</style>\n",
       "<table border=\"1\" class=\"dataframe\">\n",
       "  <thead>\n",
       "    <tr style=\"text-align: right;\">\n",
       "      <th></th>\n",
       "      <th>quantity</th>\n",
       "      <th>item_name</th>\n",
       "      <th>item_price</th>\n",
       "    </tr>\n",
       "  </thead>\n",
       "  <tbody>\n",
       "    <tr>\n",
       "      <th>241</th>\n",
       "      <td>2</td>\n",
       "      <td>Chicken Burrito</td>\n",
       "      <td>17.50</td>\n",
       "    </tr>\n",
       "    <tr>\n",
       "      <th>242</th>\n",
       "      <td>1</td>\n",
       "      <td>Chicken Burrito</td>\n",
       "      <td>8.75</td>\n",
       "    </tr>\n",
       "  </tbody>\n",
       "</table>\n",
       "</div>"
      ],
      "text/plain": [
       "     quantity        item_name  item_price\n",
       "241         2  Chicken Burrito       17.50\n",
       "242         1  Chicken Burrito        8.75"
      ]
     },
     "execution_count": 110,
     "metadata": {},
     "output_type": "execute_result"
    }
   ],
   "source": [
    "chipo[(chipo['order_id'] >= 105)  & (chipo['order_id'] <= 106)\n",
    "                                  & (chipo['item_name'] == 'Chicken Burrito')\n",
    "    ].loc[:, ['quantity', 'item_name', 'item_price']]"
   ]
  },
  {
   "cell_type": "markdown",
   "metadata": {},
   "source": [
    "### Step 15. How many orders were made in the period?"
   ]
  },
  {
   "cell_type": "code",
   "execution_count": 90,
   "metadata": {},
   "outputs": [
    {
     "data": {
      "text/plain": [
       "1834"
      ]
     },
     "execution_count": 90,
     "metadata": {},
     "output_type": "execute_result"
    }
   ],
   "source": [
    "n_orders = chipo.order_id.nunique()\n",
    "n_orders"
   ]
  },
  {
   "cell_type": "markdown",
   "metadata": {},
   "source": [
    "### Step 16. What is the average revenue amount per order?"
   ]
  },
  {
   "cell_type": "code",
   "execution_count": 91,
   "metadata": {},
   "outputs": [
    {
     "data": {
      "text/plain": [
       "18.811428571428575"
      ]
     },
     "execution_count": 91,
     "metadata": {},
     "output_type": "execute_result"
    }
   ],
   "source": [
    "# Solution 1\n",
    "# Divide `tot_revenue` just computed by `n_orders` just computed\n",
    "tot_revenue / n_orders\n",
    "# ~ $18.81"
   ]
  },
  {
   "cell_type": "code",
   "execution_count": 95,
   "metadata": {},
   "outputs": [],
   "source": [
    "# Solution 2\n",
    "# Group `chipo` dataframe by `order_id`, get the series which \n",
    "# reports total price of each `order_id`, then get average of this\n",
    "# series\n",
    "chipo_orders = chipo.groupby('order_id')\n",
    "chipo_order_prices = chipo_orders.item_price.sum()"
   ]
  },
  {
   "cell_type": "code",
   "execution_count": 97,
   "metadata": {},
   "outputs": [
    {
     "data": {
      "text/plain": [
       "pandas.core.series.Series"
      ]
     },
     "execution_count": 97,
     "metadata": {},
     "output_type": "execute_result"
    }
   ],
   "source": [
    "type(chipo_order_prices)"
   ]
  },
  {
   "cell_type": "code",
   "execution_count": 98,
   "metadata": {},
   "outputs": [
    {
     "data": {
      "text/plain": [
       "order_id\n",
       "1    11.56\n",
       "2    16.98\n",
       "3    12.67\n",
       "4    21.00\n",
       "5    13.70\n",
       "Name: item_price, dtype: float64"
      ]
     },
     "execution_count": 98,
     "metadata": {},
     "output_type": "execute_result"
    }
   ],
   "source": [
    "# e.g. \n",
    "chipo_order_prices.head(5)"
   ]
  },
  {
   "cell_type": "code",
   "execution_count": 100,
   "metadata": {},
   "outputs": [
    {
     "data": {
      "text/plain": [
       "18.81142857142869"
      ]
     },
     "execution_count": 100,
     "metadata": {},
     "output_type": "execute_result"
    }
   ],
   "source": [
    "# Now:\n",
    "avg_rev_per_order = chipo_order_prices.mean()\n",
    "avg_rev_per_order\n",
    "# Also ~ $18.81!"
   ]
  },
  {
   "cell_type": "markdown",
   "metadata": {},
   "source": [
    "### Step 17. How many different items are sold?"
   ]
  },
  {
   "cell_type": "code",
   "execution_count": 101,
   "metadata": {},
   "outputs": [
    {
     "data": {
      "text/plain": [
       "50"
      ]
     },
     "execution_count": 101,
     "metadata": {},
     "output_type": "execute_result"
    }
   ],
   "source": [
    "n_unique_item_names = chipo.item_name.nunique()\n",
    "n_unique_item_names"
   ]
  },
  {
   "cell_type": "markdown",
   "metadata": {},
   "source": [
    "_50 distinct items, going by `item_name`, are sold._"
   ]
  }
 ],
 "metadata": {
  "anaconda-cloud": {},
  "kernelspec": {
   "display_name": "Python 3",
   "language": "python",
   "name": "python3"
  },
  "language_info": {
   "codemirror_mode": {
    "name": "ipython",
    "version": 3
   },
   "file_extension": ".py",
   "mimetype": "text/x-python",
   "name": "python",
   "nbconvert_exporter": "python",
   "pygments_lexer": "ipython3",
   "version": "3.8.3"
  }
 },
 "nbformat": 4,
 "nbformat_minor": 1
}
